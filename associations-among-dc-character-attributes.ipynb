{
 "cells": [
  {
   "cell_type": "code",
   "execution_count": 1,
   "id": "e48d385a",
   "metadata": {
    "_cell_guid": "b1076dfc-b9ad-4769-8c92-a6c4dae69d19",
    "_uuid": "8f2839f25d086af736a60e9eeb907d3b93b6e0e5",
    "execution": {
     "iopub.execute_input": "2023-06-09T03:20:55.941714Z",
     "iopub.status.busy": "2023-06-09T03:20:55.941197Z",
     "iopub.status.idle": "2023-06-09T03:20:55.975650Z",
     "shell.execute_reply": "2023-06-09T03:20:55.974490Z"
    },
    "papermill": {
     "duration": 0.054958,
     "end_time": "2023-06-09T03:20:55.978153",
     "exception": false,
     "start_time": "2023-06-09T03:20:55.923195",
     "status": "completed"
    },
    "tags": []
   },
   "outputs": [
    {
     "name": "stdout",
     "output_type": "stream",
     "text": [
      "/kaggle/input/dc-comics/dc-comics.csv\n"
     ]
    }
   ],
   "source": [
    "# This Python 3 environment comes with many helpful analytics libraries installed\n",
    "# It is defined by the kaggle/python Docker image: https://github.com/kaggle/docker-python\n",
    "# For example, here's several helpful packages to load\n",
    "\n",
    "import numpy as np # linear algebra\n",
    "import pandas as pd # data processing, CSV file I/O (e.g. pd.read_csv)\n",
    "\n",
    "# Input data files are available in the read-only \"../input/\" directory\n",
    "# For example, running this (by clicking run or pressing Shift+Enter) will list all files under the input directory\n",
    "\n",
    "import os\n",
    "for dirname, _, filenames in os.walk('/kaggle/input'):\n",
    "    for filename in filenames:\n",
    "        print(os.path.join(dirname, filename))\n",
    "\n",
    "# You can write up to 20GB to the current directory (/kaggle/working/) that gets preserved as output when you create a version using \"Save & Run All\" \n",
    "# You can also write temporary files to /kaggle/temp/, but they won't be saved outside of the current session"
   ]
  },
  {
   "cell_type": "markdown",
   "id": "ffb2ba9d",
   "metadata": {
    "papermill": {
     "duration": 0.013233,
     "end_time": "2023-06-09T03:20:56.004217",
     "exception": false,
     "start_time": "2023-06-09T03:20:55.990984",
     "status": "completed"
    },
    "tags": []
   },
   "source": [
    "![image](https://wallpaperaccess.com/full/224562.jpg)(https://wallpaperaccess.com/full/224562.jpg)"
   ]
  },
  {
   "cell_type": "markdown",
   "id": "1c2f8d65",
   "metadata": {
    "papermill": {
     "duration": 0.012861,
     "end_time": "2023-06-09T03:20:56.030851",
     "exception": false,
     "start_time": "2023-06-09T03:20:56.017990",
     "status": "completed"
    },
    "tags": []
   },
   "source": [
    "### In 1938, DC Comics made its mark by publishing the inaugural Superman story in Action Comics no. 1. This groundbreaking character's immense popularity paved the way for the emergence of the costumed superhero genre, which has remained a cornerstone of the comic book industry ever since. Alongside Superman, DC Comics introduced a host of superheroes during the Golden Age of comics, most notably Batman (1939) and Wonder Woman (1941). To further capitalize on the success of these iconic characters, Licensing Corporation of America, initially known as Superman Inc., was established as a division of National Periodicals. This entity played a pivotal role in marketing DC's diverse character roster through a wide array of products, while also overseeing their adaptation and integration into various media platforms (https://www.britannica.com/topic/DC-Comics#ref314123).\n",
    "\n",
    "### In this exploration, we aim to uncover the connections among the different attributes of DC Comics characters, revealing how they shape the vast universe. By analyzing how these characters' attributes influence one another, we can gain a better understanding of our favorite heroes and villains. Join us as we reveal patterns and associations that make the DC Comics universe come alive."
   ]
  },
  {
   "cell_type": "markdown",
   "id": "fb9952de",
   "metadata": {
    "papermill": {
     "duration": 0.012405,
     "end_time": "2023-06-09T03:20:56.055894",
     "exception": false,
     "start_time": "2023-06-09T03:20:56.043489",
     "status": "completed"
    },
    "tags": []
   },
   "source": [
    "# DATA PREPARATION AND CLEANING"
   ]
  },
  {
   "cell_type": "code",
   "execution_count": 2,
   "id": "56f95e22",
   "metadata": {
    "execution": {
     "iopub.execute_input": "2023-06-09T03:20:56.082847Z",
     "iopub.status.busy": "2023-06-09T03:20:56.082476Z",
     "iopub.status.idle": "2023-06-09T03:20:57.028839Z",
     "shell.execute_reply": "2023-06-09T03:20:57.027831Z"
    },
    "papermill": {
     "duration": 0.962869,
     "end_time": "2023-06-09T03:20:57.031381",
     "exception": false,
     "start_time": "2023-06-09T03:20:56.068512",
     "status": "completed"
    },
    "tags": []
   },
   "outputs": [
    {
     "name": "stderr",
     "output_type": "stream",
     "text": [
      "/opt/conda/lib/python3.10/site-packages/scipy/__init__.py:146: UserWarning: A NumPy version >=1.16.5 and <1.23.0 is required for this version of SciPy (detected version 1.23.5\n",
      "  warnings.warn(f\"A NumPy version >={np_minversion} and <{np_maxversion}\"\n"
     ]
    }
   ],
   "source": [
    "import numpy as np\n",
    "import pandas as pd\n",
    "import matplotlib.pyplot as plt\n",
    "%matplotlib inline\n",
    "from scipy import stats\n",
    "from scipy.stats import chi2_contingency, fisher_exact"
   ]
  },
  {
   "cell_type": "code",
   "execution_count": 3,
   "id": "ffd085a5",
   "metadata": {
    "execution": {
     "iopub.execute_input": "2023-06-09T03:20:57.059911Z",
     "iopub.status.busy": "2023-06-09T03:20:57.058841Z",
     "iopub.status.idle": "2023-06-09T03:20:57.123445Z",
     "shell.execute_reply": "2023-06-09T03:20:57.122028Z"
    },
    "papermill": {
     "duration": 0.081366,
     "end_time": "2023-06-09T03:20:57.126162",
     "exception": false,
     "start_time": "2023-06-09T03:20:57.044796",
     "status": "completed"
    },
    "tags": []
   },
   "outputs": [],
   "source": [
    "# Read the CSV file into a pandas DataFrame\n",
    "df = pd.read_csv('/kaggle/input/dc-comics/dc-comics.csv')"
   ]
  },
  {
   "cell_type": "code",
   "execution_count": 4,
   "id": "92300a23",
   "metadata": {
    "execution": {
     "iopub.execute_input": "2023-06-09T03:20:57.154746Z",
     "iopub.status.busy": "2023-06-09T03:20:57.153945Z",
     "iopub.status.idle": "2023-06-09T03:20:57.183372Z",
     "shell.execute_reply": "2023-06-09T03:20:57.182151Z"
    },
    "papermill": {
     "duration": 0.046425,
     "end_time": "2023-06-09T03:20:57.186070",
     "exception": false,
     "start_time": "2023-06-09T03:20:57.139645",
     "status": "completed"
    },
    "tags": []
   },
   "outputs": [
    {
     "name": "stdout",
     "output_type": "stream",
     "text": [
      "      page_id                          name  \\\n",
      "0        1422          Batman (Bruce Wayne)   \n",
      "1       23387         Superman (Clark Kent)   \n",
      "2        1458    Green Lantern (Hal Jordan)   \n",
      "3        1659      James Gordon (New Earth)   \n",
      "4        1576   Richard Grayson (New Earth)   \n",
      "...       ...                           ...   \n",
      "6891    66302       Nadine West (New Earth)   \n",
      "6892   283475    Warren Harding (New Earth)   \n",
      "6893   283478  William Harrison (New Earth)   \n",
      "6894   283471  William McKinley (New Earth)   \n",
      "6895   150660            Mookie (New Earth)   \n",
      "\n",
      "                                   urlslug               ID            ALIGN  \\\n",
      "0             \\/wiki\\/Batman_(Bruce_Wayne)  Secret Identity  Good Characters   \n",
      "1            \\/wiki\\/Superman_(Clark_Kent)  Secret Identity  Good Characters   \n",
      "2       \\/wiki\\/Green_Lantern_(Hal_Jordan)  Secret Identity  Good Characters   \n",
      "3         \\/wiki\\/James_Gordon_(New_Earth)  Public Identity  Good Characters   \n",
      "4      \\/wiki\\/Richard_Grayson_(New_Earth)  Secret Identity  Good Characters   \n",
      "...                                    ...              ...              ...   \n",
      "6891       \\/wiki\\/Nadine_West_(New_Earth)  Public Identity  Good Characters   \n",
      "6892    \\/wiki\\/Warren_Harding_(New_Earth)  Public Identity  Good Characters   \n",
      "6893  \\/wiki\\/William_Harrison_(New_Earth)  Public Identity  Good Characters   \n",
      "6894  \\/wiki\\/William_McKinley_(New_Earth)  Public Identity  Good Characters   \n",
      "6895            \\/wiki\\/Mookie_(New_Earth)  Public Identity   Bad Characters   \n",
      "\n",
      "             EYE        HAIR                SEX              ALIVE  \\\n",
      "0      Blue Eyes  Black Hair    Male Characters  Living Characters   \n",
      "1      Blue Eyes  Black Hair    Male Characters  Living Characters   \n",
      "2     Brown Eyes  Brown Hair    Male Characters  Living Characters   \n",
      "3     Brown Eyes  White Hair    Male Characters  Living Characters   \n",
      "4      Blue Eyes  Black Hair    Male Characters  Living Characters   \n",
      "...          ...         ...                ...                ...   \n",
      "6891         NaN         NaN  Female Characters  Living Characters   \n",
      "6892         NaN         NaN    Male Characters  Living Characters   \n",
      "6893         NaN         NaN    Male Characters  Living Characters   \n",
      "6894         NaN         NaN    Male Characters  Living Characters   \n",
      "6895   Blue Eyes  Blond Hair    Male Characters  Living Characters   \n",
      "\n",
      "      APPEARANCES FIRST APPEARANCE    YEAR  \n",
      "0          3093.0        1939, May  1939.0  \n",
      "1          2496.0    1986, October  1986.0  \n",
      "2          1565.0    1959, October  1959.0  \n",
      "3          1316.0   1987, February  1987.0  \n",
      "4          1237.0      1940, April  1940.0  \n",
      "...           ...              ...     ...  \n",
      "6891          NaN              NaN     NaN  \n",
      "6892          NaN              NaN     NaN  \n",
      "6893          NaN              NaN     NaN  \n",
      "6894          NaN              NaN     NaN  \n",
      "6895          NaN              NaN     NaN  \n",
      "\n",
      "[6896 rows x 12 columns]\n"
     ]
    }
   ],
   "source": [
    "print(df)"
   ]
  },
  {
   "cell_type": "code",
   "execution_count": 5,
   "id": "4e745d36",
   "metadata": {
    "execution": {
     "iopub.execute_input": "2023-06-09T03:20:57.215844Z",
     "iopub.status.busy": "2023-06-09T03:20:57.214421Z",
     "iopub.status.idle": "2023-06-09T03:20:57.246483Z",
     "shell.execute_reply": "2023-06-09T03:20:57.245299Z"
    },
    "papermill": {
     "duration": 0.049514,
     "end_time": "2023-06-09T03:20:57.248938",
     "exception": false,
     "start_time": "2023-06-09T03:20:57.199424",
     "status": "completed"
    },
    "tags": []
   },
   "outputs": [
    {
     "name": "stdout",
     "output_type": "stream",
     "text": [
      "<class 'pandas.core.frame.DataFrame'>\n",
      "RangeIndex: 6896 entries, 0 to 6895\n",
      "Data columns (total 12 columns):\n",
      " #   Column            Non-Null Count  Dtype  \n",
      "---  ------            --------------  -----  \n",
      " 0   page_id           6896 non-null   int64  \n",
      " 1   name              6896 non-null   object \n",
      " 2   urlslug           6896 non-null   object \n",
      " 3   ID                4883 non-null   object \n",
      " 4   ALIGN             6295 non-null   object \n",
      " 5   EYE               3268 non-null   object \n",
      " 6   HAIR              4622 non-null   object \n",
      " 7   SEX               6771 non-null   object \n",
      " 8   ALIVE             6893 non-null   object \n",
      " 9   APPEARANCES       6541 non-null   float64\n",
      " 10  FIRST APPEARANCE  6827 non-null   object \n",
      " 11  YEAR              6827 non-null   float64\n",
      "dtypes: float64(2), int64(1), object(9)\n",
      "memory usage: 646.6+ KB\n"
     ]
    }
   ],
   "source": [
    "df.info()"
   ]
  },
  {
   "cell_type": "markdown",
   "id": "e14ba267",
   "metadata": {
    "papermill": {
     "duration": 0.012709,
     "end_time": "2023-06-09T03:20:57.274475",
     "exception": false,
     "start_time": "2023-06-09T03:20:57.261766",
     "status": "completed"
    },
    "tags": []
   },
   "source": [
    "> ### *As seen above, the columns 'APPPEARANCES' and 'YEAR' need to be converted as numeric datatype.*\n",
    "> ### *The first three columns have no null entries. The other columns will be dealt with later.*"
   ]
  },
  {
   "cell_type": "code",
   "execution_count": 6,
   "id": "3c81397b",
   "metadata": {
    "execution": {
     "iopub.execute_input": "2023-06-09T03:20:57.302579Z",
     "iopub.status.busy": "2023-06-09T03:20:57.301895Z",
     "iopub.status.idle": "2023-06-09T03:20:57.313254Z",
     "shell.execute_reply": "2023-06-09T03:20:57.312308Z"
    },
    "papermill": {
     "duration": 0.029107,
     "end_time": "2023-06-09T03:20:57.316539",
     "exception": false,
     "start_time": "2023-06-09T03:20:57.287432",
     "status": "completed"
    },
    "tags": []
   },
   "outputs": [
    {
     "data": {
      "text/plain": [
       "page_id               int64\n",
       "name                 object\n",
       "urlslug              object\n",
       "ID                   object\n",
       "ALIGN                object\n",
       "EYE                  object\n",
       "HAIR                 object\n",
       "SEX                  object\n",
       "ALIVE                object\n",
       "APPEARANCES         float64\n",
       "FIRST APPEARANCE     object\n",
       "YEAR                float64\n",
       "dtype: object"
      ]
     },
     "execution_count": 6,
     "metadata": {},
     "output_type": "execute_result"
    }
   ],
   "source": [
    "df['APPEARANCES'] = pd.to_numeric(df['APPEARANCES'], errors='coerce')\n",
    "df['YEAR'] = pd.to_numeric(df['YEAR'], errors='coerce')\n",
    "\n",
    "# Check DataFrame if changes took effect\n",
    "df.dtypes"
   ]
  },
  {
   "cell_type": "code",
   "execution_count": 7,
   "id": "18595c41",
   "metadata": {
    "execution": {
     "iopub.execute_input": "2023-06-09T03:20:57.348245Z",
     "iopub.status.busy": "2023-06-09T03:20:57.347478Z",
     "iopub.status.idle": "2023-06-09T03:20:57.369398Z",
     "shell.execute_reply": "2023-06-09T03:20:57.368172Z"
    },
    "papermill": {
     "duration": 0.041204,
     "end_time": "2023-06-09T03:20:57.372019",
     "exception": false,
     "start_time": "2023-06-09T03:20:57.330815",
     "status": "completed"
    },
    "tags": []
   },
   "outputs": [
    {
     "name": "stdout",
     "output_type": "stream",
     "text": [
      "                  Missing Count  Missing Percentage\n",
      "EYE                        3628           52.610209\n",
      "HAIR                       2274           32.975638\n",
      "ID                         2013           29.190835\n",
      "ALIGN                       601            8.715197\n",
      "APPEARANCES                 355            5.147912\n",
      "SEX                         125            1.812645\n",
      "FIRST APPEARANCE             69            1.000580\n",
      "YEAR                         69            1.000580\n",
      "ALIVE                         3            0.043503\n",
      "page_id                       0            0.000000\n",
      "name                          0            0.000000\n",
      "urlslug                       0            0.000000\n"
     ]
    }
   ],
   "source": [
    "# Check for missing values\n",
    "missing_values = df.isnull()  # or df.isna()\n",
    "\n",
    "# Count the number of missing values per column\n",
    "missing_counts = missing_values.sum()\n",
    "\n",
    "# Calculate the percentage of missing values per column\n",
    "missing_percentages = (missing_counts / len(df)) * 100\n",
    "\n",
    "# Create a DataFrame to display the results\n",
    "missing_data = pd.DataFrame({\n",
    "    'Missing Count': missing_counts,\n",
    "    'Missing Percentage': missing_percentages\n",
    "})\n",
    "\n",
    "# Sort the DataFrame by the missing count in descending order\n",
    "missing_data = missing_data.sort_values(by='Missing Count', ascending=False)\n",
    "\n",
    "# Display the missing values information\n",
    "print(missing_data)"
   ]
  },
  {
   "cell_type": "code",
   "execution_count": 8,
   "id": "41bc7194",
   "metadata": {
    "execution": {
     "iopub.execute_input": "2023-06-09T03:20:57.401920Z",
     "iopub.status.busy": "2023-06-09T03:20:57.401020Z",
     "iopub.status.idle": "2023-06-09T03:20:57.414466Z",
     "shell.execute_reply": "2023-06-09T03:20:57.413138Z"
    },
    "papermill": {
     "duration": 0.03104,
     "end_time": "2023-06-09T03:20:57.416585",
     "exception": false,
     "start_time": "2023-06-09T03:20:57.385545",
     "status": "completed"
    },
    "tags": []
   },
   "outputs": [],
   "source": [
    "columns_to_fill = ['EYE', 'HAIR', 'ID', 'ALIGN', 'SEX', 'ALIVE']\n",
    "\n",
    "for column in columns_to_fill:\n",
    "    df[column].fillna('Unknown', inplace=True)\n",
    "    \n",
    "# Replace 'Identity Unknown' with 'Unknown' in 'ID' column\n",
    "df['ID'] = df['ID'].replace('Identity Unknown', 'Unknown')"
   ]
  },
  {
   "cell_type": "code",
   "execution_count": 9,
   "id": "87b933f6",
   "metadata": {
    "execution": {
     "iopub.execute_input": "2023-06-09T03:20:57.445878Z",
     "iopub.status.busy": "2023-06-09T03:20:57.445135Z",
     "iopub.status.idle": "2023-06-09T03:20:57.477598Z",
     "shell.execute_reply": "2023-06-09T03:20:57.476453Z"
    },
    "papermill": {
     "duration": 0.049799,
     "end_time": "2023-06-09T03:20:57.480015",
     "exception": false,
     "start_time": "2023-06-09T03:20:57.430216",
     "status": "completed"
    },
    "tags": []
   },
   "outputs": [
    {
     "name": "stdout",
     "output_type": "stream",
     "text": [
      "<class 'pandas.core.frame.DataFrame'>\n",
      "Int64Index: 6481 entries, 0 to 6531\n",
      "Data columns (total 12 columns):\n",
      " #   Column            Non-Null Count  Dtype  \n",
      "---  ------            --------------  -----  \n",
      " 0   page_id           6481 non-null   int64  \n",
      " 1   name              6481 non-null   object \n",
      " 2   urlslug           6481 non-null   object \n",
      " 3   ID                6481 non-null   object \n",
      " 4   ALIGN             6481 non-null   object \n",
      " 5   EYE               6481 non-null   object \n",
      " 6   HAIR              6481 non-null   object \n",
      " 7   SEX               6481 non-null   object \n",
      " 8   ALIVE             6481 non-null   object \n",
      " 9   APPEARANCES       6481 non-null   float64\n",
      " 10  FIRST APPEARANCE  6481 non-null   object \n",
      " 11  YEAR              6481 non-null   float64\n",
      "dtypes: float64(2), int64(1), object(9)\n",
      "memory usage: 658.2+ KB\n"
     ]
    }
   ],
   "source": [
    "# Drop rows with null entries in 'APPEARANCES' and 'YEAR' columns\n",
    "df.dropna(subset=['APPEARANCES', 'YEAR'], inplace=True)\n",
    "\n",
    "# Display the summary of the modified DataFrame\n",
    "df.info()"
   ]
  },
  {
   "cell_type": "code",
   "execution_count": 10,
   "id": "22567e8b",
   "metadata": {
    "execution": {
     "iopub.execute_input": "2023-06-09T03:20:57.508735Z",
     "iopub.status.busy": "2023-06-09T03:20:57.508351Z",
     "iopub.status.idle": "2023-06-09T03:20:57.515393Z",
     "shell.execute_reply": "2023-06-09T03:20:57.514238Z"
    },
    "papermill": {
     "duration": 0.024298,
     "end_time": "2023-06-09T03:20:57.517607",
     "exception": false,
     "start_time": "2023-06-09T03:20:57.493309",
     "status": "completed"
    },
    "tags": []
   },
   "outputs": [],
   "source": [
    "# Remove unnecessary columns\n",
    "columns_to_drop = ['page_id', 'urlslug', 'FIRST APPEARANCE']\n",
    "df.drop(columns=columns_to_drop, inplace=True)"
   ]
  },
  {
   "cell_type": "code",
   "execution_count": 11,
   "id": "5fb976ac",
   "metadata": {
    "execution": {
     "iopub.execute_input": "2023-06-09T03:20:57.545904Z",
     "iopub.status.busy": "2023-06-09T03:20:57.545530Z",
     "iopub.status.idle": "2023-06-09T03:20:57.560609Z",
     "shell.execute_reply": "2023-06-09T03:20:57.559040Z"
    },
    "papermill": {
     "duration": 0.032205,
     "end_time": "2023-06-09T03:20:57.562951",
     "exception": false,
     "start_time": "2023-06-09T03:20:57.530746",
     "status": "completed"
    },
    "tags": []
   },
   "outputs": [
    {
     "name": "stdout",
     "output_type": "stream",
     "text": [
      "Index(['name', 'ID', 'ALIGN', 'EYE', 'HAIR', 'SEX', 'ALIVE', 'APPEARANCES',\n",
      "       'YEAR'],\n",
      "      dtype='object')\n"
     ]
    }
   ],
   "source": [
    "# Drop duplicate rows\n",
    "df.drop_duplicates(inplace=True)\n",
    "\n",
    "# Check DataFrame if changes took place\n",
    "print(df.columns)"
   ]
  },
  {
   "cell_type": "code",
   "execution_count": 12,
   "id": "16f45509",
   "metadata": {
    "execution": {
     "iopub.execute_input": "2023-06-09T03:20:57.593502Z",
     "iopub.status.busy": "2023-06-09T03:20:57.593124Z",
     "iopub.status.idle": "2023-06-09T03:20:57.608435Z",
     "shell.execute_reply": "2023-06-09T03:20:57.607288Z"
    },
    "papermill": {
     "duration": 0.03416,
     "end_time": "2023-06-09T03:20:57.610929",
     "exception": false,
     "start_time": "2023-06-09T03:20:57.576769",
     "status": "completed"
    },
    "tags": []
   },
   "outputs": [
    {
     "data": {
      "text/plain": [
       "name     6481\n",
       "ID          3\n",
       "ALIGN       5\n",
       "EYE        18\n",
       "HAIR       18\n",
       "SEX         5\n",
       "ALIVE       3\n",
       "dtype: int64"
      ]
     },
     "execution_count": 12,
     "metadata": {},
     "output_type": "execute_result"
    }
   ],
   "source": [
    "# Inspect the number of unique values in all categorical coulmns\n",
    "cat_columns = df[['name', 'ID', 'ALIGN', 'EYE', 'HAIR', 'SEX', 'ALIVE']]\n",
    "cat_columns.nunique()"
   ]
  },
  {
   "cell_type": "code",
   "execution_count": 13,
   "id": "edde389e",
   "metadata": {
    "execution": {
     "iopub.execute_input": "2023-06-09T03:20:57.642770Z",
     "iopub.status.busy": "2023-06-09T03:20:57.642353Z",
     "iopub.status.idle": "2023-06-09T03:20:57.654266Z",
     "shell.execute_reply": "2023-06-09T03:20:57.653168Z"
    },
    "papermill": {
     "duration": 0.031148,
     "end_time": "2023-06-09T03:20:57.656700",
     "exception": false,
     "start_time": "2023-06-09T03:20:57.625552",
     "status": "completed"
    },
    "tags": []
   },
   "outputs": [
    {
     "name": "stdout",
     "output_type": "stream",
     "text": [
      "Column: name\n",
      "Unique Values: ['Batman (Bruce Wayne)' 'Superman (Clark Kent)'\n",
      " 'Green Lantern (Hal Jordan)' ... 'Diablo the Horse (New Earth)'\n",
      " 'Scott Scanlon (New Earth)' 'Gareth (New Earth)']\n",
      "\n",
      "Column: ID\n",
      "Unique Values: ['Secret Identity' 'Public Identity' 'Unknown']\n",
      "\n",
      "Column: ALIGN\n",
      "Unique Values: ['Good Characters' 'Bad Characters' 'Neutral Characters' 'Unknown'\n",
      " 'Reformed Criminals']\n",
      "\n",
      "Column: EYE\n",
      "Unique Values: ['Blue Eyes' 'Brown Eyes' 'Green Eyes' 'Purple Eyes' 'Black Eyes'\n",
      " 'White Eyes' 'Red Eyes' 'Photocellular Eyes' 'Hazel Eyes' 'Amber Eyes'\n",
      " 'Yellow Eyes' 'Unknown' 'Grey Eyes' 'Pink Eyes' 'Violet Eyes' 'Gold Eyes'\n",
      " 'Orange Eyes' 'Auburn Hair']\n",
      "\n",
      "Column: HAIR\n",
      "Unique Values: ['Black Hair' 'Brown Hair' 'White Hair' 'Blond Hair' 'Red Hair' 'Unknown'\n",
      " 'Green Hair' 'Strawberry Blond Hair' 'Grey Hair' 'Silver Hair'\n",
      " 'Orange Hair' 'Purple Hair' 'Gold Hair' 'Blue Hair' 'Reddish Brown Hair'\n",
      " 'Pink Hair' 'Violet Hair' 'Platinum Blond Hair']\n",
      "\n",
      "Column: SEX\n",
      "Unique Values: ['Male Characters' 'Female Characters' 'Unknown' 'Genderless Characters'\n",
      " 'Transgender Characters']\n",
      "\n",
      "Column: ALIVE\n",
      "Unique Values: ['Living Characters' 'Deceased Characters' 'Unknown']\n",
      "\n"
     ]
    }
   ],
   "source": [
    "# Iterate over each column and print the unique values\n",
    "for column in cat_columns:\n",
    "    unique_values = df[column].unique()\n",
    "    print(f\"Column: {column}\\nUnique Values: {unique_values}\\n\")"
   ]
  },
  {
   "cell_type": "markdown",
   "id": "a5f704cd",
   "metadata": {
    "papermill": {
     "duration": 0.013419,
     "end_time": "2023-06-09T03:20:57.683790",
     "exception": false,
     "start_time": "2023-06-09T03:20:57.670371",
     "status": "completed"
    },
    "tags": []
   },
   "source": [
    "> ### *As seen above, there are a lot of unique values in the categorical columns. To facilitate statistical analyses later, these values will be aggregated into three groups based on similarities. The values in the column 'name' will not be aggregated.*"
   ]
  },
  {
   "cell_type": "code",
   "execution_count": 14,
   "id": "5b6c6467",
   "metadata": {
    "execution": {
     "iopub.execute_input": "2023-06-09T03:20:57.713782Z",
     "iopub.status.busy": "2023-06-09T03:20:57.713352Z",
     "iopub.status.idle": "2023-06-09T03:20:57.721039Z",
     "shell.execute_reply": "2023-06-09T03:20:57.719956Z"
    },
    "papermill": {
     "duration": 0.026109,
     "end_time": "2023-06-09T03:20:57.723436",
     "exception": false,
     "start_time": "2023-06-09T03:20:57.697327",
     "status": "completed"
    },
    "tags": []
   },
   "outputs": [],
   "source": [
    "# Define the mapping of unique alignment to groups\n",
    "alignment_mapping = {\n",
    "    'Bad Characters': 'bad',\n",
    "    'Good Characters': 'good',\n",
    "    'Unknown': 'unknown or neutral',\n",
    "    'Neutral Characters': 'unknown or neutral',\n",
    "    'Reformed Criminals': 'good',\n",
    "}\n",
    "\n",
    "# Create a new column 'AlignGroup' based on the mapping\n",
    "df['AlignGroup'] = df['ALIGN'].map(alignment_mapping)"
   ]
  },
  {
   "cell_type": "code",
   "execution_count": 15,
   "id": "64ddab05",
   "metadata": {
    "execution": {
     "iopub.execute_input": "2023-06-09T03:20:57.753213Z",
     "iopub.status.busy": "2023-06-09T03:20:57.752786Z",
     "iopub.status.idle": "2023-06-09T03:20:57.761411Z",
     "shell.execute_reply": "2023-06-09T03:20:57.760025Z"
    },
    "papermill": {
     "duration": 0.026872,
     "end_time": "2023-06-09T03:20:57.763907",
     "exception": false,
     "start_time": "2023-06-09T03:20:57.737035",
     "status": "completed"
    },
    "tags": []
   },
   "outputs": [],
   "source": [
    "# Define the mapping of unique eye colors to groups\n",
    "eye_color_mapping = {\n",
    "    'Unknown': 'others',\n",
    "    'Blue Eyes': 'light',\n",
    "    'Brown Eyes': 'dark',\n",
    "    'Black Eyes': 'dark',\n",
    "    'Green Eyes': 'light',\n",
    "    'Red Eyes': 'others',\n",
    "    'White Eyes': 'light',\n",
    "    'Yellow Eyes': 'light',\n",
    "    'Photocellular Eyes': 'others',\n",
    "    'Grey Eyes': 'light',\n",
    "    'Hazel Eyes': 'light',\n",
    "    'Purple Eyes': 'light',\n",
    "    'Violet Eyes': 'light',\n",
    "    'Orange Eyes': 'light',\n",
    "    'Gold Eyes': 'light',\n",
    "    'Auburn Hair': 'others',\n",
    "    'Pink Eyes': 'light',\n",
    "    'Amber Eyes': 'light'\n",
    "}\n",
    "\n",
    "# 'Auburn Hair' was found in the column, but it is assumed to be an error. Anyhow, it was considered as a color for the eyes. \n",
    "# Create a new column 'EyeGroup' based on the mapping\n",
    "df['EyeGroup'] = df['EYE'].map(eye_color_mapping)"
   ]
  },
  {
   "cell_type": "code",
   "execution_count": 16,
   "id": "5acc6796",
   "metadata": {
    "execution": {
     "iopub.execute_input": "2023-06-09T03:20:57.793379Z",
     "iopub.status.busy": "2023-06-09T03:20:57.792968Z",
     "iopub.status.idle": "2023-06-09T03:20:57.801852Z",
     "shell.execute_reply": "2023-06-09T03:20:57.800535Z"
    },
    "papermill": {
     "duration": 0.026555,
     "end_time": "2023-06-09T03:20:57.804358",
     "exception": false,
     "start_time": "2023-06-09T03:20:57.777803",
     "status": "completed"
    },
    "tags": []
   },
   "outputs": [],
   "source": [
    "# Define the mapping of unique hair colors to groups\n",
    "hair_color_mapping = {\n",
    "    'Unknown': 'others',\n",
    "    'Black Hair': 'dark',\n",
    "    'Brown Hair': 'dark',\n",
    "    'Blond Hair': 'light',\n",
    "    'Red Hair': 'dark',\n",
    "    'White Hair': 'light',\n",
    "    'Grey Hair': 'light',\n",
    "    'Green Hair': 'light',\n",
    "    'Blue Hair': 'light',\n",
    "    'Purple Hair': 'light',\n",
    "    'Strawberry Blond Hair': 'light',\n",
    "    'Orange Hair': 'light',\n",
    "    'Pink Hair': 'light',\n",
    "    'Gold Hair': 'light',\n",
    "    'Violet Hair': 'light',\n",
    "    'Silver Hair': 'light',\n",
    "    'Reddish Brown Hair': 'dark',\n",
    "    'Platinum Blond Hair': 'light'\n",
    "}\n",
    "\n",
    "# Create a new column 'HairGroup' based on the mapping\n",
    "df['HairGroup'] = df['HAIR'].map(hair_color_mapping)"
   ]
  },
  {
   "cell_type": "code",
   "execution_count": 17,
   "id": "4aa62ac3",
   "metadata": {
    "execution": {
     "iopub.execute_input": "2023-06-09T03:20:57.833777Z",
     "iopub.status.busy": "2023-06-09T03:20:57.833410Z",
     "iopub.status.idle": "2023-06-09T03:20:57.849237Z",
     "shell.execute_reply": "2023-06-09T03:20:57.848091Z"
    },
    "papermill": {
     "duration": 0.033655,
     "end_time": "2023-06-09T03:20:57.852102",
     "exception": false,
     "start_time": "2023-06-09T03:20:57.818447",
     "status": "completed"
    },
    "tags": []
   },
   "outputs": [
    {
     "name": "stdout",
     "output_type": "stream",
     "text": [
      "                              name               ID               ALIGN  \\\n",
      "0             Batman (Bruce Wayne)  Secret Identity     Good Characters   \n",
      "1            Superman (Clark Kent)  Secret Identity     Good Characters   \n",
      "2       Green Lantern (Hal Jordan)  Secret Identity     Good Characters   \n",
      "3         James Gordon (New Earth)  Public Identity     Good Characters   \n",
      "4      Richard Grayson (New Earth)  Secret Identity     Good Characters   \n",
      "...                            ...              ...                 ...   \n",
      "6527     Gypper Zilich (New Earth)          Unknown             Unknown   \n",
      "6528      Robert Mason (New Earth)  Secret Identity  Neutral Characters   \n",
      "6529  Diablo the Horse (New Earth)          Unknown     Good Characters   \n",
      "6530     Scott Scanlon (New Earth)  Public Identity             Unknown   \n",
      "6531            Gareth (New Earth)          Unknown             Unknown   \n",
      "\n",
      "             EYE        HAIR              SEX              ALIVE  APPEARANCES  \\\n",
      "0      Blue Eyes  Black Hair  Male Characters  Living Characters       3093.0   \n",
      "1      Blue Eyes  Black Hair  Male Characters  Living Characters       2496.0   \n",
      "2     Brown Eyes  Brown Hair  Male Characters  Living Characters       1565.0   \n",
      "3     Brown Eyes  White Hair  Male Characters  Living Characters       1316.0   \n",
      "4      Blue Eyes  Black Hair  Male Characters  Living Characters       1237.0   \n",
      "...          ...         ...              ...                ...          ...   \n",
      "6527     Unknown  Black Hair  Male Characters  Living Characters          1.0   \n",
      "6528  Black Eyes  Black Hair  Male Characters  Living Characters          1.0   \n",
      "6529     Unknown  Black Hair  Male Characters  Living Characters          1.0   \n",
      "6530     Unknown  Blond Hair  Male Characters  Living Characters          1.0   \n",
      "6531     Unknown     Unknown  Male Characters  Living Characters          1.0   \n",
      "\n",
      "        YEAR          AlignGroup EyeGroup HairGroup SexGroup  \n",
      "0     1939.0                good    light      dark     male  \n",
      "1     1986.0                good    light      dark     male  \n",
      "2     1959.0                good     dark      dark     male  \n",
      "3     1987.0                good     dark     light     male  \n",
      "4     1940.0                good    light      dark     male  \n",
      "...      ...                 ...      ...       ...      ...  \n",
      "6527  1941.0  unknown or neutral   others      dark     male  \n",
      "6528  1941.0  unknown or neutral     dark      dark     male  \n",
      "6529  1940.0                good   others      dark     male  \n",
      "6530  1938.0  unknown or neutral   others     light     male  \n",
      "6531  1936.0  unknown or neutral   others    others     male  \n",
      "\n",
      "[6481 rows x 13 columns]\n"
     ]
    }
   ],
   "source": [
    "# Define the mapping of unique sex to groups\n",
    "sex_mapping = {\n",
    "    'Male Characters': 'male',\n",
    "    'Female Characters': 'female',\n",
    "    'Unknown': 'others',\n",
    "    'Genderless Characters': 'others',\n",
    "    'Transgender Characters': 'others',\n",
    "}\n",
    "\n",
    "# Create a new column 'SexGroup' based on the mapping\n",
    "df['SexGroup'] = df['SEX'].map(sex_mapping)\n",
    "\n",
    "print(df)"
   ]
  },
  {
   "cell_type": "code",
   "execution_count": 18,
   "id": "7149afd1",
   "metadata": {
    "execution": {
     "iopub.execute_input": "2023-06-09T03:20:57.881202Z",
     "iopub.status.busy": "2023-06-09T03:20:57.880773Z",
     "iopub.status.idle": "2023-06-09T03:20:57.907597Z",
     "shell.execute_reply": "2023-06-09T03:20:57.906341Z"
    },
    "papermill": {
     "duration": 0.044265,
     "end_time": "2023-06-09T03:20:57.910052",
     "exception": false,
     "start_time": "2023-06-09T03:20:57.865787",
     "status": "completed"
    },
    "tags": []
   },
   "outputs": [],
   "source": [
    "# Convert string columns to lowercase for consistency\n",
    "string_columns = ['ID','ALIGN', 'EYE', 'HAIR', 'SEX', 'ALIVE']\n",
    "df[string_columns] = df[string_columns].apply(lambda x: x.str.lower())"
   ]
  },
  {
   "cell_type": "code",
   "execution_count": 19,
   "id": "9d67bbb1",
   "metadata": {
    "execution": {
     "iopub.execute_input": "2023-06-09T03:20:57.941436Z",
     "iopub.status.busy": "2023-06-09T03:20:57.940997Z",
     "iopub.status.idle": "2023-06-09T03:20:57.989233Z",
     "shell.execute_reply": "2023-06-09T03:20:57.987916Z"
    },
    "papermill": {
     "duration": 0.066792,
     "end_time": "2023-06-09T03:20:57.991631",
     "exception": false,
     "start_time": "2023-06-09T03:20:57.924839",
     "status": "completed"
    },
    "tags": []
   },
   "outputs": [
    {
     "name": "stdout",
     "output_type": "stream",
     "text": [
      "<class 'pandas.core.frame.DataFrame'>\n",
      "Int64Index: 6481 entries, 0 to 6531\n",
      "Data columns (total 13 columns):\n",
      " #   Column       Non-Null Count  Dtype  \n",
      "---  ------       --------------  -----  \n",
      " 0   name         6481 non-null   object \n",
      " 1   ID           6481 non-null   object \n",
      " 2   ALIGN        6481 non-null   object \n",
      " 3   EYE          6481 non-null   object \n",
      " 4   HAIR         6481 non-null   object \n",
      " 5   SEX          6481 non-null   object \n",
      " 6   ALIVE        6481 non-null   object \n",
      " 7   APPEARANCES  6481 non-null   float64\n",
      " 8   YEAR         6481 non-null   float64\n",
      " 9   AlignGroup   6481 non-null   object \n",
      " 10  EyeGroup     6481 non-null   object \n",
      " 11  HairGroup    6481 non-null   object \n",
      " 12  SexGroup     6481 non-null   object \n",
      "dtypes: float64(2), object(11)\n",
      "memory usage: 708.9+ KB\n"
     ]
    }
   ],
   "source": [
    "# Remove leading/trailing whitespaces in string columns\n",
    "df[string_columns] = df[string_columns].apply(lambda x: x.str.strip())\n",
    "\n",
    "# Display the summary of the modified DataFrame\n",
    "df.info()"
   ]
  },
  {
   "cell_type": "code",
   "execution_count": 20,
   "id": "08fa621e",
   "metadata": {
    "execution": {
     "iopub.execute_input": "2023-06-09T03:20:58.021589Z",
     "iopub.status.busy": "2023-06-09T03:20:58.020927Z",
     "iopub.status.idle": "2023-06-09T03:20:58.080405Z",
     "shell.execute_reply": "2023-06-09T03:20:58.079182Z"
    },
    "papermill": {
     "duration": 0.07731,
     "end_time": "2023-06-09T03:20:58.082895",
     "exception": false,
     "start_time": "2023-06-09T03:20:58.005585",
     "status": "completed"
    },
    "tags": []
   },
   "outputs": [],
   "source": [
    "# Save the cleaned dataset to a new CSV file\n",
    "df.to_csv('cleaned_dc-comics.csv', index=False)"
   ]
  },
  {
   "cell_type": "markdown",
   "id": "9de2ec18",
   "metadata": {
    "papermill": {
     "duration": 0.013536,
     "end_time": "2023-06-09T03:20:58.110957",
     "exception": false,
     "start_time": "2023-06-09T03:20:58.097421",
     "status": "completed"
    },
    "tags": []
   },
   "source": [
    "# EXPLORATORY ANALYSIS AND VISUALIZATION"
   ]
  },
  {
   "cell_type": "code",
   "execution_count": 21,
   "id": "495723fc",
   "metadata": {
    "execution": {
     "iopub.execute_input": "2023-06-09T03:20:58.142941Z",
     "iopub.status.busy": "2023-06-09T03:20:58.142543Z",
     "iopub.status.idle": "2023-06-09T03:20:58.177948Z",
     "shell.execute_reply": "2023-06-09T03:20:58.176492Z"
    },
    "papermill": {
     "duration": 0.054579,
     "end_time": "2023-06-09T03:20:58.180511",
     "exception": false,
     "start_time": "2023-06-09T03:20:58.125932",
     "status": "completed"
    },
    "tags": []
   },
   "outputs": [
    {
     "name": "stdout",
     "output_type": "stream",
     "text": [
      "                              name               ID               ALIGN  \\\n",
      "0             Batman (Bruce Wayne)  secret identity     good characters   \n",
      "1            Superman (Clark Kent)  secret identity     good characters   \n",
      "2       Green Lantern (Hal Jordan)  secret identity     good characters   \n",
      "3         James Gordon (New Earth)  public identity     good characters   \n",
      "4      Richard Grayson (New Earth)  secret identity     good characters   \n",
      "...                            ...              ...                 ...   \n",
      "6476     Gypper Zilich (New Earth)          unknown             unknown   \n",
      "6477      Robert Mason (New Earth)  secret identity  neutral characters   \n",
      "6478  Diablo the Horse (New Earth)          unknown     good characters   \n",
      "6479     Scott Scanlon (New Earth)  public identity             unknown   \n",
      "6480            Gareth (New Earth)          unknown             unknown   \n",
      "\n",
      "             EYE        HAIR              SEX              ALIVE  APPEARANCES  \\\n",
      "0      blue eyes  black hair  male characters  living characters       3093.0   \n",
      "1      blue eyes  black hair  male characters  living characters       2496.0   \n",
      "2     brown eyes  brown hair  male characters  living characters       1565.0   \n",
      "3     brown eyes  white hair  male characters  living characters       1316.0   \n",
      "4      blue eyes  black hair  male characters  living characters       1237.0   \n",
      "...          ...         ...              ...                ...          ...   \n",
      "6476     unknown  black hair  male characters  living characters          1.0   \n",
      "6477  black eyes  black hair  male characters  living characters          1.0   \n",
      "6478     unknown  black hair  male characters  living characters          1.0   \n",
      "6479     unknown  blond hair  male characters  living characters          1.0   \n",
      "6480     unknown     unknown  male characters  living characters          1.0   \n",
      "\n",
      "        YEAR          AlignGroup EyeGroup HairGroup SexGroup  \n",
      "0     1939.0                good    light      dark     male  \n",
      "1     1986.0                good    light      dark     male  \n",
      "2     1959.0                good     dark      dark     male  \n",
      "3     1987.0                good     dark     light     male  \n",
      "4     1940.0                good    light      dark     male  \n",
      "...      ...                 ...      ...       ...      ...  \n",
      "6476  1941.0  unknown or neutral   others      dark     male  \n",
      "6477  1941.0  unknown or neutral     dark      dark     male  \n",
      "6478  1940.0                good   others      dark     male  \n",
      "6479  1938.0  unknown or neutral   others     light     male  \n",
      "6480  1936.0  unknown or neutral   others    others     male  \n",
      "\n",
      "[6481 rows x 13 columns]\n"
     ]
    }
   ],
   "source": [
    "# Load the cleaned dataset into a DataFrame\n",
    "df_cleaned = pd.read_csv('cleaned_dc-comics.csv')\n",
    "\n",
    "print(df_cleaned)"
   ]
  },
  {
   "cell_type": "markdown",
   "id": "d2358104",
   "metadata": {
    "papermill": {
     "duration": 0.013646,
     "end_time": "2023-06-09T03:20:58.208173",
     "exception": false,
     "start_time": "2023-06-09T03:20:58.194527",
     "status": "completed"
    },
    "tags": []
   },
   "source": [
    "## Identity"
   ]
  },
  {
   "cell_type": "code",
   "execution_count": 22,
   "id": "cede019f",
   "metadata": {
    "execution": {
     "iopub.execute_input": "2023-06-09T03:20:58.240349Z",
     "iopub.status.busy": "2023-06-09T03:20:58.239943Z",
     "iopub.status.idle": "2023-06-09T03:20:58.248845Z",
     "shell.execute_reply": "2023-06-09T03:20:58.247634Z"
    },
    "papermill": {
     "duration": 0.028265,
     "end_time": "2023-06-09T03:20:58.250959",
     "exception": false,
     "start_time": "2023-06-09T03:20:58.222694",
     "status": "completed"
    },
    "tags": []
   },
   "outputs": [
    {
     "data": {
      "text/plain": [
       "public identity    2342\n",
       "secret identity    2275\n",
       "unknown            1864\n",
       "Name: ID, dtype: int64"
      ]
     },
     "execution_count": 22,
     "metadata": {},
     "output_type": "execute_result"
    }
   ],
   "source": [
    "# Get value counts of 'ID' column\n",
    "id_counts = df_cleaned['ID'].value_counts()\n",
    "id_counts"
   ]
  },
  {
   "cell_type": "code",
   "execution_count": 23,
   "id": "25266be8",
   "metadata": {
    "execution": {
     "iopub.execute_input": "2023-06-09T03:20:58.281248Z",
     "iopub.status.busy": "2023-06-09T03:20:58.280829Z",
     "iopub.status.idle": "2023-06-09T03:20:58.470709Z",
     "shell.execute_reply": "2023-06-09T03:20:58.469044Z"
    },
    "papermill": {
     "duration": 0.209446,
     "end_time": "2023-06-09T03:20:58.474930",
     "exception": false,
     "start_time": "2023-06-09T03:20:58.265484",
     "status": "completed"
    },
    "tags": []
   },
   "outputs": [
    {
     "data": {
      "image/png": "[encoded data removed]",
      "text/plain": [
       "<Figure size 640x480 with 1 Axes>"
      ]
     },
     "metadata": {},
     "output_type": "display_data"
    }
   ],
   "source": [
    "# Set the labels and sizes for the donut chart\n",
    "labels = id_counts.index\n",
    "sizes = id_counts.values\n",
    "\n",
    "# Create a donut chart with data labels\n",
    "plt.pie(sizes, labels=labels, autopct='%1.1f%%', wedgeprops={'width': 0.6})\n",
    "\n",
    "# Add a circle at the center to create the donut shape\n",
    "circle = plt.Circle((0, 0), 0.3, color='white')\n",
    "plt.gca().add_artist(circle)\n",
    "\n",
    "# Add a title\n",
    "plt.title('Distribution of Identity')\n",
    "\n",
    "# Display the chart\n",
    "plt.show()"
   ]
  },
  {
   "cell_type": "markdown",
   "id": "a09f8aa8",
   "metadata": {
    "papermill": {
     "duration": 0.018066,
     "end_time": "2023-06-09T03:20:58.520036",
     "exception": false,
     "start_time": "2023-06-09T03:20:58.501970",
     "status": "completed"
    },
    "tags": []
   },
   "source": [
    "## Alignment"
   ]
  },
  {
   "cell_type": "code",
   "execution_count": 24,
   "id": "43de81df",
   "metadata": {
    "execution": {
     "iopub.execute_input": "2023-06-09T03:20:58.552277Z",
     "iopub.status.busy": "2023-06-09T03:20:58.551878Z",
     "iopub.status.idle": "2023-06-09T03:20:58.560794Z",
     "shell.execute_reply": "2023-06-09T03:20:58.559596Z"
    },
    "papermill": {
     "duration": 0.027427,
     "end_time": "2023-06-09T03:20:58.563320",
     "exception": false,
     "start_time": "2023-06-09T03:20:58.535893",
     "status": "completed"
    },
    "tags": []
   },
   "outputs": [
    {
     "data": {
      "text/plain": [
       "bad characters        2709\n",
       "good characters       2669\n",
       "unknown                558\n",
       "neutral characters     542\n",
       "reformed criminals       3\n",
       "Name: ALIGN, dtype: int64"
      ]
     },
     "execution_count": 24,
     "metadata": {},
     "output_type": "execute_result"
    }
   ],
   "source": [
    "align_counts = df_cleaned.ALIGN.value_counts()\n",
    "align_counts"
   ]
  },
  {
   "cell_type": "code",
   "execution_count": 25,
   "id": "785f98af",
   "metadata": {
    "execution": {
     "iopub.execute_input": "2023-06-09T03:20:58.596921Z",
     "iopub.status.busy": "2023-06-09T03:20:58.596514Z",
     "iopub.status.idle": "2023-06-09T03:20:58.823512Z",
     "shell.execute_reply": "2023-06-09T03:20:58.822373Z"
    },
    "papermill": {
     "duration": 0.246327,
     "end_time": "2023-06-09T03:20:58.825773",
     "exception": false,
     "start_time": "2023-06-09T03:20:58.579446",
     "status": "completed"
    },
    "tags": []
   },
   "outputs": [
    {
     "data": {
      "image/png": "[encoded data removed]",
      "text/plain": [
       "<Figure size 640x480 with 1 Axes>"
      ]
     },
     "metadata": {},
     "output_type": "display_data"
    }
   ],
   "source": [
    "# Set the x and y values for the bar plot\n",
    "x = align_counts.index\n",
    "y = align_counts.values\n",
    "\n",
    "# Create a bar plot\n",
    "plt.bar(x, y)\n",
    "\n",
    "# Add labels and title\n",
    "plt.xlabel('Alignment')\n",
    "plt.ylabel('Count')\n",
    "plt.title('Distribution of Alignment')\n",
    "\n",
    "# Rotate x-axis labels if needed\n",
    "plt.xticks(rotation=90)\n",
    "\n",
    "# Display the plot\n",
    "plt.show()"
   ]
  },
  {
   "cell_type": "markdown",
   "id": "4cf4fc6f",
   "metadata": {
    "papermill": {
     "duration": 0.014575,
     "end_time": "2023-06-09T03:20:58.855821",
     "exception": false,
     "start_time": "2023-06-09T03:20:58.841246",
     "status": "completed"
    },
    "tags": []
   },
   "source": [
    "## Eye Color"
   ]
  },
  {
   "cell_type": "code",
   "execution_count": 26,
   "id": "23d225fa",
   "metadata": {
    "execution": {
     "iopub.execute_input": "2023-06-09T03:20:58.887602Z",
     "iopub.status.busy": "2023-06-09T03:20:58.886491Z",
     "iopub.status.idle": "2023-06-09T03:20:58.895487Z",
     "shell.execute_reply": "2023-06-09T03:20:58.894583Z"
    },
    "papermill": {
     "duration": 0.02704,
     "end_time": "2023-06-09T03:20:58.897577",
     "exception": false,
     "start_time": "2023-06-09T03:20:58.870537",
     "status": "completed"
    },
    "tags": []
   },
   "outputs": [
    {
     "data": {
      "text/plain": [
       "unknown               3381\n",
       "blue eyes             1070\n",
       "brown eyes             835\n",
       "black eyes             395\n",
       "green eyes             267\n",
       "red eyes               186\n",
       "white eyes             112\n",
       "yellow eyes             76\n",
       "photocellular eyes      42\n",
       "grey eyes               36\n",
       "hazel eyes              23\n",
       "purple eyes             14\n",
       "violet eyes             10\n",
       "gold eyes                9\n",
       "orange eyes              7\n",
       "auburn hair              7\n",
       "pink eyes                6\n",
       "amber eyes               5\n",
       "Name: EYE, dtype: int64"
      ]
     },
     "execution_count": 26,
     "metadata": {},
     "output_type": "execute_result"
    }
   ],
   "source": [
    "eye_counts = df_cleaned.EYE.value_counts()\n",
    "eye_counts"
   ]
  },
  {
   "cell_type": "code",
   "execution_count": 27,
   "id": "7d3f9d4e",
   "metadata": {
    "execution": {
     "iopub.execute_input": "2023-06-09T03:20:58.930226Z",
     "iopub.status.busy": "2023-06-09T03:20:58.929762Z",
     "iopub.status.idle": "2023-06-09T03:20:59.262547Z",
     "shell.execute_reply": "2023-06-09T03:20:59.261130Z"
    },
    "papermill": {
     "duration": 0.352563,
     "end_time": "2023-06-09T03:20:59.265296",
     "exception": false,
     "start_time": "2023-06-09T03:20:58.912733",
     "status": "completed"
    },
    "tags": []
   },
   "outputs": [
    {
     "data": {
      "image/png": "[encoded data removed]",
      "text/plain": [
       "<Figure size 640x480 with 1 Axes>"
      ]
     },
     "metadata": {},
     "output_type": "display_data"
    }
   ],
   "source": [
    "# Sort the values and labels in descending order\n",
    "eye_counts = eye_counts.sort_values(ascending=True)\n",
    "\n",
    "# Set the y and x values for the horizontal bar plot\n",
    "y = eye_counts.index\n",
    "x = eye_counts.values\n",
    "\n",
    "# Create a horizontal bar plot\n",
    "plt.barh(y, x)\n",
    "\n",
    "# Add labels and title\n",
    "plt.xlabel('Count')\n",
    "plt.ylabel('Eye Color')\n",
    "plt.title('Distribution of Eye Color')\n",
    "\n",
    "# Display the plot\n",
    "plt.show()\n"
   ]
  },
  {
   "cell_type": "markdown",
   "id": "511e5016",
   "metadata": {
    "papermill": {
     "duration": 0.01625,
     "end_time": "2023-06-09T03:20:59.297812",
     "exception": false,
     "start_time": "2023-06-09T03:20:59.281562",
     "status": "completed"
    },
    "tags": []
   },
   "source": [
    "## Hair Color"
   ]
  },
  {
   "cell_type": "code",
   "execution_count": 28,
   "id": "73ca8dca",
   "metadata": {
    "execution": {
     "iopub.execute_input": "2023-06-09T03:20:59.332893Z",
     "iopub.status.busy": "2023-06-09T03:20:59.332496Z",
     "iopub.status.idle": "2023-06-09T03:20:59.342189Z",
     "shell.execute_reply": "2023-06-09T03:20:59.340914Z"
    },
    "papermill": {
     "duration": 0.029966,
     "end_time": "2023-06-09T03:20:59.344988",
     "exception": false,
     "start_time": "2023-06-09T03:20:59.315022",
     "status": "completed"
    },
    "tags": []
   },
   "outputs": [
    {
     "data": {
      "text/plain": [
       "unknown                  2069\n",
       "black hair               1496\n",
       "brown hair               1102\n",
       "blond hair                720\n",
       "red hair                  438\n",
       "white hair                328\n",
       "grey hair                 147\n",
       "green hair                 40\n",
       "blue hair                  37\n",
       "purple hair                30\n",
       "strawberry blond hair      27\n",
       "orange hair                21\n",
       "pink hair                  10\n",
       "gold hair                   5\n",
       "violet hair                 4\n",
       "silver hair                 3\n",
       "reddish brown hair          2\n",
       "platinum blond hair         2\n",
       "Name: HAIR, dtype: int64"
      ]
     },
     "execution_count": 28,
     "metadata": {},
     "output_type": "execute_result"
    }
   ],
   "source": [
    "hair_counts = df_cleaned.HAIR.value_counts()\n",
    "hair_counts"
   ]
  },
  {
   "cell_type": "code",
   "execution_count": 29,
   "id": "5b0d7da0",
   "metadata": {
    "execution": {
     "iopub.execute_input": "2023-06-09T03:20:59.379252Z",
     "iopub.status.busy": "2023-06-09T03:20:59.378841Z",
     "iopub.status.idle": "2023-06-09T03:20:59.717109Z",
     "shell.execute_reply": "2023-06-09T03:20:59.715470Z"
    },
    "papermill": {
     "duration": 0.357824,
     "end_time": "2023-06-09T03:20:59.719432",
     "exception": false,
     "start_time": "2023-06-09T03:20:59.361608",
     "status": "completed"
    },
    "tags": []
   },
   "outputs": [
    {
     "data": {
      "image/png": "[encoded data removed]",
      "text/plain": [
       "<Figure size 640x480 with 1 Axes>"
      ]
     },
     "metadata": {},
     "output_type": "display_data"
    }
   ],
   "source": [
    "# Sort the values and labels in descending order\n",
    "hair_counts = hair_counts.sort_values(ascending=True)\n",
    "\n",
    "# Set the y and x values for the horizontal bar plot\n",
    "y = hair_counts.index\n",
    "x = hair_counts.values\n",
    "\n",
    "# Create a horizontal bar plot\n",
    "plt.barh(y, x)\n",
    "\n",
    "# Add labels and title\n",
    "plt.xlabel('Count')\n",
    "plt.ylabel('Hair Color')\n",
    "plt.title('Distribution of Hair Color')\n",
    "\n",
    "# Display the plot\n",
    "plt.show()\n"
   ]
  },
  {
   "cell_type": "markdown",
   "id": "425ae060",
   "metadata": {
    "papermill": {
     "duration": 0.017446,
     "end_time": "2023-06-09T03:20:59.757353",
     "exception": false,
     "start_time": "2023-06-09T03:20:59.739907",
     "status": "completed"
    },
    "tags": []
   },
   "source": [
    "## Sex"
   ]
  },
  {
   "cell_type": "code",
   "execution_count": 30,
   "id": "24bcb80e",
   "metadata": {
    "execution": {
     "iopub.execute_input": "2023-06-09T03:20:59.793004Z",
     "iopub.status.busy": "2023-06-09T03:20:59.792614Z",
     "iopub.status.idle": "2023-06-09T03:20:59.803064Z",
     "shell.execute_reply": "2023-06-09T03:20:59.801325Z"
    },
    "papermill": {
     "duration": 0.031457,
     "end_time": "2023-06-09T03:20:59.806025",
     "exception": false,
     "start_time": "2023-06-09T03:20:59.774568",
     "status": "completed"
    },
    "tags": []
   },
   "outputs": [
    {
     "data": {
      "text/plain": [
       "male characters           4487\n",
       "female characters         1861\n",
       "unknown                    113\n",
       "genderless characters       19\n",
       "transgender characters       1\n",
       "Name: SEX, dtype: int64"
      ]
     },
     "execution_count": 30,
     "metadata": {},
     "output_type": "execute_result"
    }
   ],
   "source": [
    "sex_counts = df_cleaned.SEX.value_counts()\n",
    "sex_counts"
   ]
  },
  {
   "cell_type": "code",
   "execution_count": 31,
   "id": "eca441ce",
   "metadata": {
    "execution": {
     "iopub.execute_input": "2023-06-09T03:20:59.841626Z",
     "iopub.status.busy": "2023-06-09T03:20:59.840707Z",
     "iopub.status.idle": "2023-06-09T03:21:00.081053Z",
     "shell.execute_reply": "2023-06-09T03:21:00.079884Z"
    },
    "papermill": {
     "duration": 0.260589,
     "end_time": "2023-06-09T03:21:00.083434",
     "exception": false,
     "start_time": "2023-06-09T03:20:59.822845",
     "status": "completed"
    },
    "tags": []
   },
   "outputs": [
    {
     "data": {
      "image/png": "[encoded data removed]",
      "text/plain": [
       "<Figure size 640x480 with 1 Axes>"
      ]
     },
     "metadata": {},
     "output_type": "display_data"
    }
   ],
   "source": [
    "# Get value counts of 'SEX' column\n",
    "sex_counts = df_cleaned['SEX'].value_counts()\n",
    "\n",
    "# Set the x and y values for the bar plot\n",
    "x = sex_counts.index\n",
    "y = sex_counts.values\n",
    "\n",
    "# Create a bar plot\n",
    "plt.bar(x, y)\n",
    "\n",
    "# Add labels and title\n",
    "plt.xlabel('Sex')\n",
    "plt.ylabel('Count')\n",
    "plt.title('Distribution of Sex')\n",
    "\n",
    "# Rotate x-axis labels by 90 degrees\n",
    "plt.xticks(rotation=90)\n",
    "\n",
    "# Adjust the layout to prevent labels overlapping\n",
    "plt.tight_layout()\n",
    "\n",
    "# Display the plot\n",
    "plt.show()"
   ]
  },
  {
   "cell_type": "markdown",
   "id": "6ec1359a",
   "metadata": {
    "papermill": {
     "duration": 0.01736,
     "end_time": "2023-06-09T03:21:00.118922",
     "exception": false,
     "start_time": "2023-06-09T03:21:00.101562",
     "status": "completed"
    },
    "tags": []
   },
   "source": [
    "## Life Status"
   ]
  },
  {
   "cell_type": "code",
   "execution_count": 32,
   "id": "ec7c1622",
   "metadata": {
    "execution": {
     "iopub.execute_input": "2023-06-09T03:21:00.155912Z",
     "iopub.status.busy": "2023-06-09T03:21:00.155186Z",
     "iopub.status.idle": "2023-06-09T03:21:00.164727Z",
     "shell.execute_reply": "2023-06-09T03:21:00.163466Z"
    },
    "papermill": {
     "duration": 0.030861,
     "end_time": "2023-06-09T03:21:00.167102",
     "exception": false,
     "start_time": "2023-06-09T03:21:00.136241",
     "status": "completed"
    },
    "tags": []
   },
   "outputs": [
    {
     "data": {
      "text/plain": [
       "living characters      4863\n",
       "deceased characters    1616\n",
       "unknown                   2\n",
       "Name: ALIVE, dtype: int64"
      ]
     },
     "execution_count": 32,
     "metadata": {},
     "output_type": "execute_result"
    }
   ],
   "source": [
    "alive_counts = df_cleaned.ALIVE.value_counts()\n",
    "alive_counts"
   ]
  },
  {
   "cell_type": "code",
   "execution_count": 33,
   "id": "1a5a725b",
   "metadata": {
    "execution": {
     "iopub.execute_input": "2023-06-09T03:21:00.203909Z",
     "iopub.status.busy": "2023-06-09T03:21:00.203519Z",
     "iopub.status.idle": "2023-06-09T03:21:00.362513Z",
     "shell.execute_reply": "2023-06-09T03:21:00.361354Z"
    },
    "papermill": {
     "duration": 0.181006,
     "end_time": "2023-06-09T03:21:00.365676",
     "exception": false,
     "start_time": "2023-06-09T03:21:00.184670",
     "status": "completed"
    },
    "tags": []
   },
   "outputs": [
    {
     "data": {
      "image/png": "[encoded data removed]",
      "text/plain": [
       "<Figure size 640x480 with 1 Axes>"
      ]
     },
     "metadata": {},
     "output_type": "display_data"
    }
   ],
   "source": [
    "# Set the labels and corresponding values for the donut chart\n",
    "labels = alive_counts.index\n",
    "sizes = alive_counts.values\n",
    "\n",
    "# Create a donut chart\n",
    "plt.pie(sizes, labels=labels, wedgeprops={'edgecolor': 'white', 'linewidth': 2}, autopct='%.3f%%')\n",
    "\n",
    "# Add a white circle in the center to create the donut shape\n",
    "circle = plt.Circle((0, 0), 0.4, color='white')\n",
    "fig = plt.gcf()\n",
    "fig.gca().add_artist(circle)\n",
    "\n",
    "# Add a title\n",
    "plt.title('Distribution of Life Status')\n",
    "\n",
    "# Display the plot\n",
    "plt.axis('equal')\n",
    "plt.show()\n"
   ]
  },
  {
   "cell_type": "markdown",
   "id": "89318283",
   "metadata": {
    "papermill": {
     "duration": 0.026561,
     "end_time": "2023-06-09T03:21:00.423758",
     "exception": false,
     "start_time": "2023-06-09T03:21:00.397197",
     "status": "completed"
    },
    "tags": []
   },
   "source": [
    "## Number of Appearances"
   ]
  },
  {
   "cell_type": "code",
   "execution_count": 34,
   "id": "63b7f838",
   "metadata": {
    "execution": {
     "iopub.execute_input": "2023-06-09T03:21:00.463212Z",
     "iopub.status.busy": "2023-06-09T03:21:00.462478Z",
     "iopub.status.idle": "2023-06-09T03:21:00.474673Z",
     "shell.execute_reply": "2023-06-09T03:21:00.473532Z"
    },
    "papermill": {
     "duration": 0.035443,
     "end_time": "2023-06-09T03:21:00.477279",
     "exception": false,
     "start_time": "2023-06-09T03:21:00.441836",
     "status": "completed"
    },
    "tags": []
   },
   "outputs": [
    {
     "data": {
      "text/plain": [
       "count    6481.000000\n",
       "mean       23.781978\n",
       "std        87.761084\n",
       "min         1.000000\n",
       "25%         2.000000\n",
       "50%         6.000000\n",
       "75%        15.000000\n",
       "max      3093.000000\n",
       "Name: APPEARANCES, dtype: float64"
      ]
     },
     "execution_count": 34,
     "metadata": {},
     "output_type": "execute_result"
    }
   ],
   "source": [
    "appearances_stats = df_cleaned.APPEARANCES.describe()\n",
    "appearances_stats"
   ]
  },
  {
   "cell_type": "markdown",
   "id": "fd005f2d",
   "metadata": {
    "papermill": {
     "duration": 0.017606,
     "end_time": "2023-06-09T03:21:00.512776",
     "exception": false,
     "start_time": "2023-06-09T03:21:00.495170",
     "status": "completed"
    },
    "tags": []
   },
   "source": [
    "> ### From the statistics above, the mean value is higher than that of the median. Such condition suggests that the number of appearances is positively skewed."
   ]
  },
  {
   "cell_type": "code",
   "execution_count": 35,
   "id": "ef8ae328",
   "metadata": {
    "execution": {
     "iopub.execute_input": "2023-06-09T03:21:00.555904Z",
     "iopub.status.busy": "2023-06-09T03:21:00.555171Z",
     "iopub.status.idle": "2023-06-09T03:21:00.792412Z",
     "shell.execute_reply": "2023-06-09T03:21:00.791331Z"
    },
    "papermill": {
     "duration": 0.262928,
     "end_time": "2023-06-09T03:21:00.794678",
     "exception": false,
     "start_time": "2023-06-09T03:21:00.531750",
     "status": "completed"
    },
    "tags": []
   },
   "outputs": [
    {
     "data": {
      "image/png": "[encoded data removed]",
      "text/plain": [
       "<Figure size 640x480 with 1 Axes>"
      ]
     },
     "metadata": {},
     "output_type": "display_data"
    }
   ],
   "source": [
    "# Create the histogram\n",
    "plt.hist(df['APPEARANCES'], bins=10)\n",
    "plt.xlabel('Number of Appearances')\n",
    "plt.ylabel('Frequency')\n",
    "plt.title('Distribution of Number of Appearances')\n",
    "plt.show()"
   ]
  },
  {
   "cell_type": "markdown",
   "id": "2c7dddc9",
   "metadata": {
    "papermill": {
     "duration": 0.018094,
     "end_time": "2023-06-09T03:21:00.831148",
     "exception": false,
     "start_time": "2023-06-09T03:21:00.813054",
     "status": "completed"
    },
    "tags": []
   },
   "source": [
    "> ### *The graph above shows that  majority of the DC characters falls on the lower side of the distribution, while there are fewer occurrences of higher values.*"
   ]
  },
  {
   "cell_type": "markdown",
   "id": "c1289050",
   "metadata": {
    "papermill": {
     "duration": 0.018478,
     "end_time": "2023-06-09T03:21:00.868142",
     "exception": false,
     "start_time": "2023-06-09T03:21:00.849664",
     "status": "completed"
    },
    "tags": []
   },
   "source": [
    "# ASKING AND ANSWERING QUESTIONS\n",
    "\n",
    "## Q1: What is the trend of the number of first appearances by DC characters across the years?"
   ]
  },
  {
   "cell_type": "code",
   "execution_count": 36,
   "id": "9b06158e",
   "metadata": {
    "execution": {
     "iopub.execute_input": "2023-06-09T03:21:00.907549Z",
     "iopub.status.busy": "2023-06-09T03:21:00.907123Z",
     "iopub.status.idle": "2023-06-09T03:21:01.337311Z",
     "shell.execute_reply": "2023-06-09T03:21:01.336312Z"
    },
    "papermill": {
     "duration": 0.452363,
     "end_time": "2023-06-09T03:21:01.339563",
     "exception": false,
     "start_time": "2023-06-09T03:21:00.887200",
     "status": "completed"
    },
    "tags": []
   },
   "outputs": [
    {
     "data": {
      "image/png": "[encoded data removed]",
      "text/plain": [
       "<Figure size 640x480 with 1 Axes>"
      ]
     },
     "metadata": {},
     "output_type": "display_data"
    }
   ],
   "source": [
    "# Sort the DataFrame by the 'YEAR' column\n",
    "dc_characters_sorted = df_cleaned.sort_values('YEAR')\n",
    "\n",
    "# Group the sorted DataFrame by 'YEAR' and count the unique characters\n",
    "first_appearance_by_year = dc_characters_sorted.groupby('YEAR')['name'].nunique()\n",
    "\n",
    "# Calculate the mean number of first appearances\n",
    "mean_first_appearances = np.mean(first_appearance_by_year)\n",
    "\n",
    "# Create a line plot\n",
    "plt.plot(first_appearance_by_year.index, first_appearance_by_year.values, marker='o')\n",
    "\n",
    "# Add a vertical span for years above the mean\n",
    "above_mean_years = first_appearance_by_year.index[first_appearance_by_year.values > mean_first_appearances]\n",
    "for year in above_mean_years:\n",
    "    plt.axvspan(year - 0.5, year + 0.5, facecolor='lightgreen', alpha=0.3)\n",
    "\n",
    "plt.axhline(mean_first_appearances, color='r', linestyle='--', label='Mean')\n",
    "\n",
    "plt.xlabel('Year')\n",
    "plt.ylabel('Number of First Appearances')\n",
    "plt.title('Number of DC Characters First Appearances by Year')\n",
    "plt.xticks(rotation=90)\n",
    "plt.tight_layout()\n",
    "\n",
    "# Add a legend\n",
    "plt.legend()\n",
    "\n",
    "plt.show()"
   ]
  },
  {
   "cell_type": "markdown",
   "id": "a10ec816",
   "metadata": {
    "papermill": {
     "duration": 0.018418,
     "end_time": "2023-06-09T03:21:01.377286",
     "exception": false,
     "start_time": "2023-06-09T03:21:01.358868",
     "status": "completed"
    },
    "tags": []
   },
   "source": [
    "> ### *The graph above shows that from 1981 to 2011, the number of DC characters appearing for the first time surpassed the average of approximately 86.* "
   ]
  },
  {
   "cell_type": "markdown",
   "id": "b0ae3c31",
   "metadata": {
    "papermill": {
     "duration": 0.018691,
     "end_time": "2023-06-09T03:21:01.415005",
     "exception": false,
     "start_time": "2023-06-09T03:21:01.396314",
     "status": "completed"
    },
    "tags": []
   },
   "source": [
    "## Q2: Is there an association among DC character attributes such as identity, alignment, eye color, hair color, sex, and life status when paired together?\n",
    "\n",
    "### Since the variables involved are categorical, the Chi-square test of independence or the Fisher's exact test is suitable for determining if associations exist between pairs. We will use scipy.stats, a powerful tool for statistical analysis and hypothesis testing.\n",
    "\n",
    "### The groups created earlier for the categorical variables involved wiil be tested for certain assumptions prior to the application of the suitable statistical tool. Let us start with the first pair: identity and alignment."
   ]
  },
  {
   "cell_type": "code",
   "execution_count": 37,
   "id": "52be792c",
   "metadata": {
    "execution": {
     "iopub.execute_input": "2023-06-09T03:21:01.454370Z",
     "iopub.status.busy": "2023-06-09T03:21:01.453987Z",
     "iopub.status.idle": "2023-06-09T03:21:01.491632Z",
     "shell.execute_reply": "2023-06-09T03:21:01.490478Z"
    },
    "papermill": {
     "duration": 0.060189,
     "end_time": "2023-06-09T03:21:01.493973",
     "exception": false,
     "start_time": "2023-06-09T03:21:01.433784",
     "status": "completed"
    },
    "tags": []
   },
   "outputs": [
    {
     "name": "stdout",
     "output_type": "stream",
     "text": [
      "Cross-tabulation with Expected Frequencies:\n",
      "AlignGroup        bad  good  unknown or neutral\n",
      "ID                                             \n",
      "public identity   696  1225                 421\n",
      "secret identity  1187   810                 278\n",
      "unknown           826   637                 401\n",
      "\n",
      "Expected Frequencies:\n",
      "AlignGroup              bad        good  unknown or neutral\n",
      "ID                                                         \n",
      "public identity  978.935041  965.564573          397.500386\n",
      "secret identity  950.929640  937.941676          386.128684\n",
      "unknown          779.135319  768.493751          316.370930\n",
      "\n",
      "Chi-square Test results:\n",
      "P-value: 3.0850648992473735e-65\n",
      "There is evidence of an association between identity and alignment.\n"
     ]
    }
   ],
   "source": [
    "# Create a contingency table\n",
    "contingency_table = pd.crosstab(df_cleaned['ID'], df_cleaned['AlignGroup'])\n",
    "\n",
    "# Check if more than 20% of the expected frequencies are below 5\n",
    "if (contingency_table.values < 5).mean() > 0.2:\n",
    "    # Convert the contingency table to 2x2\n",
    "    if contingency_table.shape[0] == 3 and contingency_table.shape[1] == 3:\n",
    "        # Combine the 2nd and 3rd rows\n",
    "        contingency_table.iloc[1] += contingency_table.iloc[2]\n",
    "        contingency_table = contingency_table.iloc[:2]\n",
    "\n",
    "        # Combine the 2nd and 3rd columns\n",
    "        contingency_table.iloc[:, 1] += contingency_table.iloc[:, 2]\n",
    "        contingency_table = contingency_table.iloc[:, :2]\n",
    "\n",
    "    # Perform Fisher's exact test\n",
    "    oddsratio, p_value = fisher_exact(contingency_table)\n",
    "    method = \"Fisher's Exact Test\"\n",
    "else:\n",
    "    # Perform chi-square test\n",
    "    chi2, p_value, dof, expected = chi2_contingency(contingency_table)\n",
    "    method = \"Chi-square Test\"\n",
    "\n",
    "# Display the cross-tabulation with expected frequencies\n",
    "cross_tab = pd.DataFrame(contingency_table.values, index=contingency_table.index, columns=contingency_table.columns)\n",
    "expected_freq = pd.DataFrame(expected, index=contingency_table.index, columns=contingency_table.columns)\n",
    "\n",
    "print('Cross-tabulation with Expected Frequencies:')\n",
    "print(cross_tab)\n",
    "print('\\nExpected Frequencies:')\n",
    "print(expected_freq)\n",
    "\n",
    "# Print the results\n",
    "print('\\n' + method + ' results:')\n",
    "print('P-value:', p_value)\n",
    "\n",
    "# Set the significance level\n",
    "alpha = 0.05\n",
    "\n",
    "# Check if there is an association based on the p-value\n",
    "if p_value < alpha:\n",
    "    print('There is evidence of an association between identity and alignment.')\n",
    "else:\n",
    "    print('There is no evidence of an association between identity and alignment.')"
   ]
  },
  {
   "cell_type": "markdown",
   "id": "8ca3af9f",
   "metadata": {
    "papermill": {
     "duration": 0.018921,
     "end_time": "2023-06-09T03:21:01.533928",
     "exception": false,
     "start_time": "2023-06-09T03:21:01.515007",
     "status": "completed"
    },
    "tags": []
   },
   "source": [
    "### Let us iterate the procedure with the remaining pairs of variables."
   ]
  },
  {
   "cell_type": "code",
   "execution_count": 38,
   "id": "6b458a93",
   "metadata": {
    "execution": {
     "iopub.execute_input": "2023-06-09T03:21:01.575123Z",
     "iopub.status.busy": "2023-06-09T03:21:01.574022Z",
     "iopub.status.idle": "2023-06-09T03:21:01.957551Z",
     "shell.execute_reply": "2023-06-09T03:21:01.955990Z"
    },
    "papermill": {
     "duration": 0.406809,
     "end_time": "2023-06-09T03:21:01.960009",
     "exception": false,
     "start_time": "2023-06-09T03:21:01.553200",
     "status": "completed"
    },
    "tags": []
   },
   "outputs": [
    {
     "name": "stdout",
     "output_type": "stream",
     "text": [
      "Contingency Table for Columns: ('ID', 'EyeGroup')\n",
      "EyeGroup         dark  light  others\n",
      "ID                                  \n",
      "public identity   544    709    1089\n",
      "secret identity   506    672    1097\n",
      "unknown           180    254    1430\n",
      "\n",
      "Chi-square Test results for Columns: ('ID', 'EyeGroup')\n",
      "P-value: 1.4073726183597063e-99\n",
      "There is evidence of an association between ID and EyeGroup\n",
      "-------------------------------------------------------------------------\n",
      "Contingency Table for Columns: ('ID', 'HairGroup')\n",
      "HairGroup        dark  light  others\n",
      "ID                                  \n",
      "public identity  1241    605     496\n",
      "secret identity  1076    463     736\n",
      "unknown           721    306     837\n",
      "\n",
      "Chi-square Test results for Columns: ('ID', 'HairGroup')\n",
      "P-value: 6.297545400515045e-58\n",
      "There is evidence of an association between ID and HairGroup\n",
      "-------------------------------------------------------------------------\n",
      "Contingency Table for Columns: ('ID', 'SexGroup')\n",
      "SexGroup         female  male  others\n",
      "ID                                   \n",
      "public identity     727  1578      37\n",
      "secret identity     597  1648      30\n",
      "unknown             537  1261      66\n",
      "\n",
      "Chi-square Test results for Columns: ('ID', 'SexGroup')\n",
      "P-value: 9.758766217137869e-09\n",
      "There is evidence of an association between ID and SexGroup\n",
      "-------------------------------------------------------------------------\n",
      "Contingency Table for Columns: ('ID', 'ALIVE')\n",
      "ALIVE            deceased characters  living characters  unknown\n",
      "ID                                                              \n",
      "public identity                  605               1735        2\n",
      "secret identity                  598               1677        0\n",
      "unknown                          413               1451        0\n",
      "\n",
      "Fisher's Exact Test results for Columns: ('ID', 'ALIVE')\n",
      "P-value: 0.2095806378498456\n",
      "There is no evidence of an association between ID and ALIVE\n",
      "-------------------------------------------------------------------------\n",
      "Contingency Table for Columns: ('AlignGroup', 'EyeGroup')\n",
      "EyeGroup            dark  light  others\n",
      "AlignGroup                             \n",
      "bad                  434    566    1709\n",
      "good                 582    781    1309\n",
      "unknown or neutral   214    288     598\n",
      "\n",
      "Chi-square Test results for Columns: ('AlignGroup', 'EyeGroup')\n",
      "P-value: 8.84021111446761e-23\n",
      "There is evidence of an association between AlignGroup and EyeGroup\n",
      "-------------------------------------------------------------------------\n",
      "Contingency Table for Columns: ('AlignGroup', 'HairGroup')\n",
      "HairGroup           dark  light  others\n",
      "AlignGroup                             \n",
      "bad                 1081    512    1116\n",
      "good                1422    623     627\n",
      "unknown or neutral   535    239     326\n",
      "\n",
      "Chi-square Test results for Columns: ('AlignGroup', 'HairGroup')\n",
      "P-value: 6.369637559783829e-42\n",
      "There is evidence of an association between AlignGroup and HairGroup\n",
      "-------------------------------------------------------------------------\n",
      "Contingency Table for Columns: ('AlignGroup', 'SexGroup')\n",
      "SexGroup            female  male  others\n",
      "AlignGroup                              \n",
      "bad                    567  2074      68\n",
      "good                   899  1741      32\n",
      "unknown or neutral     395   672      33\n",
      "\n",
      "Chi-square Test results for Columns: ('AlignGroup', 'SexGroup')\n",
      "P-value: 2.0418100125306484e-32\n",
      "There is evidence of an association between AlignGroup and SexGroup\n",
      "-------------------------------------------------------------------------\n",
      "Contingency Table for Columns: ('AlignGroup', 'ALIVE')\n",
      "ALIVE               deceased characters  living characters  unknown\n",
      "AlignGroup                                                         \n",
      "bad                                 775               1933        1\n",
      "good                                634               2037        1\n",
      "unknown or neutral                  207                893        0\n",
      "\n",
      "Fisher's Exact Test results for Columns: ('AlignGroup', 'ALIVE')\n",
      "P-value: 8.048805286259781e-09\n",
      "There is evidence of an association between AlignGroup and ALIVE\n",
      "-------------------------------------------------------------------------\n",
      "Contingency Table for Columns: ('EyeGroup', 'HairGroup')\n",
      "HairGroup  dark  light  others\n",
      "EyeGroup                      \n",
      "dark        965    121     144\n",
      "light       767    652     216\n",
      "others     1306    601    1709\n",
      "\n",
      "Chi-square Test results for Columns: ('EyeGroup', 'HairGroup')\n",
      "P-value: 1.4314969020786096e-287\n",
      "There is evidence of an association between EyeGroup and HairGroup\n",
      "-------------------------------------------------------------------------\n",
      "Contingency Table for Columns: ('EyeGroup', 'SexGroup')\n",
      "SexGroup  female  male  others\n",
      "EyeGroup                      \n",
      "dark         376   847       7\n",
      "light        638   987      10\n",
      "others       847  2653     116\n",
      "\n",
      "Chi-square Test results for Columns: ('EyeGroup', 'SexGroup')\n",
      "P-value: 2.017092918185105e-37\n",
      "There is evidence of an association between EyeGroup and SexGroup\n",
      "-------------------------------------------------------------------------\n",
      "Contingency Table for Columns: ('EyeGroup', 'ALIVE')\n",
      "ALIVE     deceased characters  living characters  unknown\n",
      "EyeGroup                                                 \n",
      "dark                      323                907        0\n",
      "light                     431               1204        0\n",
      "others                    862               2752        2\n",
      "\n",
      "Fisher's Exact Test results for Columns: ('EyeGroup', 'ALIVE')\n",
      "P-value: 0.24137147140334164\n",
      "There is no evidence of an association between EyeGroup and ALIVE\n",
      "-------------------------------------------------------------------------\n",
      "Contingency Table for Columns: ('HairGroup', 'SexGroup')\n",
      "SexGroup   female  male  others\n",
      "HairGroup                      \n",
      "dark         1061  1967      10\n",
      "light         490   878       6\n",
      "others        310  1642     117\n",
      "\n",
      "Chi-square Test results for Columns: ('HairGroup', 'SexGroup')\n",
      "P-value: 2.571452071051308e-93\n",
      "There is evidence of an association between HairGroup and SexGroup\n",
      "-------------------------------------------------------------------------\n",
      "Contingency Table for Columns: ('HairGroup', 'ALIVE')\n",
      "ALIVE      deceased characters  living characters  unknown\n",
      "HairGroup                                                 \n",
      "dark                       743               2295        0\n",
      "light                      366               1007        1\n",
      "others                     507               1561        1\n",
      "\n",
      "Fisher's Exact Test results for Columns: ('HairGroup', 'ALIVE')\n",
      "P-value: 0.42053495116807055\n",
      "There is no evidence of an association between HairGroup and ALIVE\n",
      "-------------------------------------------------------------------------\n",
      "Contingency Table for Columns: ('SexGroup', 'ALIVE')\n",
      "ALIVE     deceased characters  living characters  unknown\n",
      "SexGroup                                                 \n",
      "female                    369               1491        1\n",
      "male                     1217               3269        1\n",
      "others                     30                103        0\n",
      "\n",
      "Fisher's Exact Test results for Columns: ('SexGroup', 'ALIVE')\n",
      "P-value: 1.0514449540372578e-09\n",
      "There is evidence of an association between SexGroup and ALIVE\n",
      "-------------------------------------------------------------------------\n"
     ]
    }
   ],
   "source": [
    "# Define the column pairs\n",
    "pairs = [\n",
    "    (\"ID\", \"EyeGroup\"), (\"ID\", \"HairGroup\"), (\"ID\", \"SexGroup\"), (\"ID\", \"ALIVE\"),\n",
    "    (\"AlignGroup\", \"EyeGroup\"), (\"AlignGroup\", \"HairGroup\"), (\"AlignGroup\", \"SexGroup\"), (\"AlignGroup\", \"ALIVE\"),\n",
    "    (\"EyeGroup\", \"HairGroup\"), (\"EyeGroup\", \"SexGroup\"), (\"EyeGroup\", \"ALIVE\"),\n",
    "    (\"HairGroup\", \"SexGroup\"), (\"HairGroup\", \"ALIVE\"), (\"SexGroup\", \"ALIVE\")\n",
    "]\n",
    "\n",
    "# Iterate over the column pairs\n",
    "for pair in pairs:\n",
    "    # Create a contingency table\n",
    "    contingency_table = pd.crosstab(df_cleaned[pair[0]], df_cleaned[pair[1]])\n",
    "\n",
    "    # Display the cross-tabulation\n",
    "    print('Contingency Table for Columns:', pair)\n",
    "    print(contingency_table)\n",
    "\n",
    "    # Check if more than 20% of the expected frequencies are below 5\n",
    "    if (contingency_table.values < 5).mean() > 0.2:\n",
    "        # Convert the contingency table to 2x2\n",
    "        if contingency_table.shape[0] == 3 and contingency_table.shape[1] == 3:\n",
    "            # Combine the 2nd and 3rd rows\n",
    "            contingency_table.iloc[1] += contingency_table.iloc[2]\n",
    "            contingency_table = contingency_table.iloc[:2]\n",
    "\n",
    "            # Combine the 2nd and 3rd columns\n",
    "            contingency_table.iloc[:, 1] += contingency_table.iloc[:, 2]\n",
    "            contingency_table = contingency_table.iloc[:, :2]\n",
    "\n",
    "        # Perform Fisher's exact test\n",
    "        oddsratio, p_value = fisher_exact(contingency_table)\n",
    "        method = \"Fisher's Exact Test\"\n",
    "    else:\n",
    "        # Perform chi-square test\n",
    "        chi2, p_value, dof, expected = chi2_contingency(contingency_table)\n",
    "        method = \"Chi-square Test\"\n",
    "\n",
    "    # Print the results\n",
    "    print('\\n' + method + ' results for Columns:', pair)\n",
    "    print('P-value:', p_value)\n",
    "\n",
    "    # Set the significance level\n",
    "    alpha = 0.05\n",
    "\n",
    "    # Check if there is an association based on the p-value\n",
    "    if p_value < alpha:\n",
    "        print('There is evidence of an association between', pair[0], 'and', pair[1])\n",
    "    else:\n",
    "        print('There is no evidence of an association between', pair[0], 'and', pair[1])\n",
    "    print('-------------------------------------------------------------------------')"
   ]
  },
  {
   "cell_type": "markdown",
   "id": "0e41b06c",
   "metadata": {
    "papermill": {
     "duration": 0.018743,
     "end_time": "2023-06-09T03:21:01.998103",
     "exception": false,
     "start_time": "2023-06-09T03:21:01.979360",
     "status": "completed"
    },
    "tags": []
   },
   "source": [
    "## Q3: Is there a significant difference in DC characters' number of appearances when grouped by attributes such as identity, alignment, eye color, hair color, sex, and life status?\n",
    "\n",
    "### This code below performs hypothesis testing based on two assumptions: normality and equality of variances. It uses Shapiro-Wilk test to check normality and Levene's test to check equality of variances. If the assumptions are met, the code performs ANOVA (Analysis of Variance) test to determine if there is significant difference between groups. If the assumptions are not met, the code performs Kruskal-Wallis test instead.\n",
    "\n",
    "### Let us start with the hypothesis: There is no significant difference in DC characters' number of appearances when grouped by identity?"
   ]
  },
  {
   "cell_type": "code",
   "execution_count": 39,
   "id": "5c0317db",
   "metadata": {
    "execution": {
     "iopub.execute_input": "2023-06-09T03:21:02.038997Z",
     "iopub.status.busy": "2023-06-09T03:21:02.037936Z",
     "iopub.status.idle": "2023-06-09T03:21:02.064744Z",
     "shell.execute_reply": "2023-06-09T03:21:02.063393Z"
    },
    "papermill": {
     "duration": 0.049957,
     "end_time": "2023-06-09T03:21:02.067217",
     "exception": false,
     "start_time": "2023-06-09T03:21:02.017260",
     "status": "completed"
    },
    "tags": []
   },
   "outputs": [
    {
     "name": "stdout",
     "output_type": "stream",
     "text": [
      "Shapiro-Wilk p-values:\n",
      " ID\n",
      "public identity    0.0\n",
      "secret identity    0.0\n",
      "unknown            0.0\n",
      "Name: APPEARANCES, dtype: float64\n",
      "Levene's test p-value: 1.0731199985568157e-20\n",
      "Kruskal-Wallis: Reject the null hypothesis. There is a significant difference between groups.\n"
     ]
    }
   ],
   "source": [
    "# Check the assumptions\n",
    "\n",
    "# Shapiro-Wilk test for normality\n",
    "shapiro_results = df_cleaned.groupby('ID')['APPEARANCES'].apply(lambda x: stats.shapiro(x.dropna())[1])\n",
    "print(\"Shapiro-Wilk p-values:\\n\", shapiro_results)\n",
    "\n",
    "# Levene's test for equality of variances\n",
    "levene_results = stats.levene(df_cleaned.loc[df_cleaned['ID'] == 'public identity', 'APPEARANCES'].dropna(),\n",
    "                              df_cleaned.loc[df_cleaned['ID'] == 'secret identity', 'APPEARANCES'].dropna(),\n",
    "                              df_cleaned.loc[df_cleaned['ID'] == 'unknown', 'APPEARANCES'].dropna())\n",
    "print(\"Levene's test p-value:\", levene_results.pvalue)\n",
    "\n",
    "alpha = 0.05  # significance level\n",
    "\n",
    "# Determine the appropriate test based on the assumptions\n",
    "\n",
    "if shapiro_results.min() >= alpha and levene_results.pvalue >= alpha:\n",
    "    # Assumptions met, perform ANOVA\n",
    "    fvalue, pvalue = stats.f_oneway(df_cleaned.loc[df_cleaned['ID'] == 'public identity', 'APPEARANCES'].dropna(),\n",
    "                                    df_cleaned.loc[df_cleaned['ID'] == 'secret identity', 'APPEARANCES'].dropna(),\n",
    "                                    df_cleaned.loc[df_cleaned['ID'] == 'unknown', 'APPEARANCES'].dropna())\n",
    "\n",
    "    if pvalue < alpha:\n",
    "        print(\"ANOVA: Reject the null hypothesis. There is a significant difference between groups.\")\n",
    "    else:\n",
    "        print(\"ANOVA: Fail to reject the null hypothesis. There is no significant difference between groups.\")\n",
    "else:\n",
    "    # Assumptions not met, perform Kruskal-Wallis\n",
    "    kw_statistic, kw_pvalue = stats.kruskal(df_cleaned.loc[df_cleaned['ID'] == 'public identity', 'APPEARANCES'].dropna(),\n",
    "                                            df_cleaned.loc[df_cleaned['ID'] == 'secret identity', 'APPEARANCES'].dropna(),\n",
    "                                            df_cleaned.loc[df_cleaned['ID'] == 'unknown', 'APPEARANCES'].dropna())\n",
    "\n",
    "    if kw_pvalue < alpha:\n",
    "        print(\"Kruskal-Wallis: Reject the null hypothesis. There is a significant difference between groups.\")\n",
    "    else:\n",
    "        print(\"Kruskal-Wallis: Fail to reject the null hypothesis. There is no significant difference between groups.\")"
   ]
  },
  {
   "cell_type": "markdown",
   "id": "b2fb07cf",
   "metadata": {
    "papermill": {
     "duration": 0.020747,
     "end_time": "2023-06-09T03:21:02.107543",
     "exception": false,
     "start_time": "2023-06-09T03:21:02.086796",
     "status": "completed"
    },
    "tags": []
   },
   "source": [
    "### Let us iterate the procedure with the remaining pairs of variables."
   ]
  },
  {
   "cell_type": "code",
   "execution_count": 40,
   "id": "ebff97d0",
   "metadata": {
    "execution": {
     "iopub.execute_input": "2023-06-09T03:21:02.150254Z",
     "iopub.status.busy": "2023-06-09T03:21:02.149258Z",
     "iopub.status.idle": "2023-06-09T03:21:02.206545Z",
     "shell.execute_reply": "2023-06-09T03:21:02.204902Z"
    },
    "papermill": {
     "duration": 0.081178,
     "end_time": "2023-06-09T03:21:02.208930",
     "exception": false,
     "start_time": "2023-06-09T03:21:02.127752",
     "status": "completed"
    },
    "tags": []
   },
   "outputs": [
    {
     "name": "stdout",
     "output_type": "stream",
     "text": [
      "----- Testing APPEARANCES by AlignGroup -----\n",
      "Shapiro-Wilk p-values:\n",
      " AlignGroup\n",
      "bad                   0.0\n",
      "good                  0.0\n",
      "unknown or neutral    0.0\n",
      "Name: APPEARANCES, dtype: float64\n",
      "Levene's test p-value: 1.7505314471200686e-25\n",
      "Kruskal-Wallis: Reject the null hypothesis. There is a significant difference between groups.\n",
      "\n",
      "\n",
      "----- Testing APPEARANCES by EyeGroup -----\n",
      "Shapiro-Wilk p-values:\n",
      " EyeGroup\n",
      "dark      0.0\n",
      "light     0.0\n",
      "others    0.0\n",
      "Name: APPEARANCES, dtype: float64\n",
      "Levene's test p-value: 1.9045769718817084e-55\n",
      "Kruskal-Wallis: Reject the null hypothesis. There is a significant difference between groups.\n",
      "\n",
      "\n",
      "----- Testing APPEARANCES by HairGroup -----\n",
      "Shapiro-Wilk p-values:\n",
      " HairGroup\n",
      "dark      0.0\n",
      "light     0.0\n",
      "others    0.0\n",
      "Name: APPEARANCES, dtype: float64\n",
      "Levene's test p-value: 9.50228112464265e-10\n",
      "Kruskal-Wallis: Reject the null hypothesis. There is a significant difference between groups.\n",
      "\n",
      "\n",
      "----- Testing APPEARANCES by SexGroup -----\n",
      "Shapiro-Wilk p-values:\n",
      " SexGroup\n",
      "female    0.000000e+00\n",
      "male      0.000000e+00\n",
      "others    1.746637e-18\n",
      "Name: APPEARANCES, dtype: float64\n",
      "Levene's test p-value: 0.13984735918734736\n",
      "Kruskal-Wallis: Reject the null hypothesis. There is a significant difference between groups.\n",
      "\n",
      "\n"
     ]
    }
   ],
   "source": [
    "# Define the pairs\n",
    "pairs = [('APPEARANCES', 'AlignGroup'),\n",
    "         ('APPEARANCES', 'EyeGroup'),\n",
    "         ('APPEARANCES', 'HairGroup'),\n",
    "         ('APPEARANCES', 'SexGroup')]\n",
    "\n",
    "alpha = 0.05  # significance level\n",
    "\n",
    "for x_col, group_col in pairs:\n",
    "    print(f\"----- Testing {x_col} by {group_col} -----\")\n",
    "\n",
    "    # Check the assumptions\n",
    "\n",
    "    # Shapiro-Wilk test for normality\n",
    "    shapiro_results = df_cleaned.groupby(group_col)[x_col].apply(lambda x: stats.shapiro(x.dropna())[1])\n",
    "    print(\"Shapiro-Wilk p-values:\\n\", shapiro_results)\n",
    "\n",
    "    # Levene's test for equality of variances\n",
    "    levene_results = stats.levene(df_cleaned.loc[df_cleaned[group_col] == shapiro_results.index[0], x_col].dropna(),\n",
    "                                  df_cleaned.loc[df_cleaned[group_col] == shapiro_results.index[1], x_col].dropna(),\n",
    "                                  df_cleaned.loc[df_cleaned[group_col] == shapiro_results.index[2], x_col].dropna(),\n",
    "                                 )\n",
    "    print(\"Levene's test p-value:\", levene_results.pvalue)\n",
    "\n",
    "    # Determine the appropriate test based on the assumptions\n",
    "\n",
    "    if shapiro_results.min() >= alpha and levene_results.pvalue >= alpha:\n",
    "        # Assumptions met, perform ANOVA\n",
    "        fvalue, pvalue = stats.f_oneway(df_cleaned.loc[df_cleaned[group_col] == shapiro_results.index[0], x_col].dropna(),\n",
    "                                        df_cleaned.loc[df_cleaned[group_col] == shapiro_results.index[1], x_col].dropna(),\n",
    "                                        df_cleaned.loc[df_cleaned[group_col] == shapiro_results.index[2], x_col].dropna())\n",
    "\n",
    "        if pvalue < alpha:\n",
    "            print(\"ANOVA: Reject the null hypothesis. There is a significant difference between groups.\")\n",
    "        else:\n",
    "            print(\"ANOVA: Fail to reject the null hypothesis. There is no significant difference between groups.\")\n",
    "    else:\n",
    "        # Assumptions not met, perform Kruskal-Wallis\n",
    "        kw_statistic, kw_pvalue = stats.kruskal(df_cleaned.loc[df_cleaned[group_col] == shapiro_results.index[0], x_col].dropna(),\n",
    "                                                df_cleaned.loc[df_cleaned[group_col] == shapiro_results.index[1], x_col].dropna(),\n",
    "                                                df_cleaned.loc[df_cleaned[group_col] == shapiro_results.index[2], x_col].dropna())\n",
    "\n",
    "        if kw_pvalue < alpha:\n",
    "            print(\"Kruskal-Wallis: Reject the null hypothesis. There is a significant difference between groups.\")\n",
    "        else:\n",
    "            print(\"Kruskal-Wallis: Fail to reject the null hypothesis. There is no significant difference between groups.\")\n",
    "\n",
    "    print(\"\\n\")"
   ]
  },
  {
   "cell_type": "markdown",
   "id": "eb950261",
   "metadata": {
    "papermill": {
     "duration": 0.019501,
     "end_time": "2023-06-09T03:21:02.248177",
     "exception": false,
     "start_time": "2023-06-09T03:21:02.228676",
     "status": "completed"
    },
    "tags": []
   },
   "source": [
    "### For the life status ('ALIVE' column), there is insufficient number for the category 'unknown' to perform either ANOVA or Kruskal-Wallis test. Hence, to test if a significant difference exists in the number of DC characters' appearances when grouped by life status, only the categories with valid counts are included."
   ]
  },
  {
   "cell_type": "code",
   "execution_count": 41,
   "id": "d0ee10fc",
   "metadata": {
    "execution": {
     "iopub.execute_input": "2023-06-09T03:21:02.289505Z",
     "iopub.status.busy": "2023-06-09T03:21:02.289098Z",
     "iopub.status.idle": "2023-06-09T03:21:02.315451Z",
     "shell.execute_reply": "2023-06-09T03:21:02.314424Z"
    },
    "papermill": {
     "duration": 0.049659,
     "end_time": "2023-06-09T03:21:02.317552",
     "exception": false,
     "start_time": "2023-06-09T03:21:02.267893",
     "status": "completed"
    },
    "tags": []
   },
   "outputs": [
    {
     "name": "stdout",
     "output_type": "stream",
     "text": [
      "Shapiro-Wilk p-values:\n",
      " ALIVE\n",
      "deceased characters    0.0\n",
      "living characters      0.0\n",
      "dtype: float64\n",
      "Levene's test p-value: 0.10723801670418354\n",
      "Kruskal-Wallis: Reject the null hypothesis. There is a significant difference between groups.\n"
     ]
    }
   ],
   "source": [
    "# Define the column names\n",
    "x_col = 'APPEARANCES'\n",
    "group_col = 'ALIVE'\n",
    "\n",
    "# Subset the DataFrame for the specific column and group\n",
    "data = df_cleaned[[x_col, group_col]].dropna()\n",
    "\n",
    "# Filter groups with at least three non-null values\n",
    "valid_groups = data.groupby(group_col).filter(lambda x: x[x_col].count() >= 3)\n",
    "\n",
    "# Perform the Shapiro-Wilk test for normality\n",
    "shapiro_results = valid_groups.groupby(group_col).apply(lambda x: stats.shapiro(x[x_col])[1])\n",
    "print(\"Shapiro-Wilk p-values:\\n\", shapiro_results)\n",
    "\n",
    "# Perform Levene's test for equality of variances\n",
    "levene_results = stats.levene(*[group[x_col] for _, group in valid_groups.groupby(group_col)])\n",
    "print(\"Levene's test p-value:\", levene_results.pvalue)\n",
    "\n",
    "# Determine the appropriate test based on the assumptions\n",
    "alpha = 0.05\n",
    "\n",
    "if shapiro_results.min() >= alpha and levene_results.pvalue >= alpha:\n",
    "    # Assumptions met, perform ANOVA\n",
    "    fvalue, pvalue = stats.f_oneway(*[group[x_col] for _, group in valid_groups.groupby(group_col)])\n",
    "\n",
    "    if pvalue < alpha:\n",
    "        print(\"ANOVA: Reject the null hypothesis. There is a significant difference between groups.\")\n",
    "    else:\n",
    "        print(\"ANOVA: Fail to reject the null hypothesis. There is no significant difference between groups.\")\n",
    "else:\n",
    "    # Assumptions not met, perform Kruskal-Wallis\n",
    "    kw_statistic, kw_pvalue = stats.kruskal(*[group[x_col] for _, group in valid_groups.groupby(group_col)])\n",
    "\n",
    "    if kw_pvalue < alpha:\n",
    "        print(\"Kruskal-Wallis: Reject the null hypothesis. There is a significant difference between groups.\")\n",
    "    else:\n",
    "        print(\"Kruskal-Wallis: Fail to reject the null hypothesis. There is no significant difference between groups.\")"
   ]
  },
  {
   "cell_type": "markdown",
   "id": "a77f61c0",
   "metadata": {
    "papermill": {
     "duration": 0.019339,
     "end_time": "2023-06-09T03:21:02.357186",
     "exception": false,
     "start_time": "2023-06-09T03:21:02.337847",
     "status": "completed"
    },
    "tags": []
   },
   "source": [
    "# CONCLUSIONS\n",
    "\n",
    "### Based on the obtained results, the following conclusions are hereby offered:\n",
    "\n",
    "1. ### There has been an increase in the number of DC characters appearing for the first time from 1981 to 2011, surpassing the average of approximately 86.\n",
    " \n",
    "2. ### Associations exist among the attributes of DC characters except for the following pairs: identity and life status, eye color and life status, and  hair color and life status.\n",
    "  \n",
    "3. ### There are significant differences in the number of DC character appearances when grouped by attributes."
   ]
  },
  {
   "cell_type": "markdown",
   "id": "f4271463",
   "metadata": {
    "papermill": {
     "duration": 0.020671,
     "end_time": "2023-06-09T03:21:02.397672",
     "exception": false,
     "start_time": "2023-06-09T03:21:02.377001",
     "status": "completed"
    },
    "tags": []
   },
   "source": [
    "# FUTURE WORK\n",
    "\n",
    "### These areas of future work can provide valuable insights for character development, marketing, and forecasting in the DC universe.\n",
    "\n",
    "1. ### Predictive Modeling: Develop models to forecast future trends in character appearances.\n",
    "\n",
    "2. ### Longitudinal Analysis: Extend the analysis over a longer time period to observe historical trends."
   ]
  },
  {
   "cell_type": "markdown",
   "id": "b6ecfe99",
   "metadata": {
    "papermill": {
     "duration": 0.01969,
     "end_time": "2023-06-09T03:21:02.438670",
     "exception": false,
     "start_time": "2023-06-09T03:21:02.418980",
     "status": "completed"
    },
    "tags": []
   },
   "source": [
    "# REFERENCES\n",
    "\n",
    "* ### *DC Comics. https://www.britannica.com/topic/DC-Comics*\n",
    "\n",
    "* ### *DC comics dataset.  https://www.kaggle.com/datasets/arunasivapragasam/dc-comics*\n",
    "\n",
    "* ### *Matplotlib User Guide. https://matplotlib.org/stable/users/index.html*\n",
    "\n",
    "* ### *Pandas User Guide. https://pandas.pydata.org/pandas-docs/stable/user_guide/index.html*\n",
    "\n",
    "* ### *SciPy User Guide. https://docs.scipy.org/doc/scipy/tutorial/index.html*"
   ]
  }
 ],
 "metadata": {
  "kernelspec": {
   "display_name": "Python 3",
   "language": "python",
   "name": "python3"
  },
  "language_info": {
   "codemirror_mode": {
    "name": "ipython",
    "version": 3
   },
   "file_extension": ".py",
   "mimetype": "text/x-python",
   "name": "python",
   "nbconvert_exporter": "python",
   "pygments_lexer": "ipython3",
   "version": "3.10.10"
  },
  "papermill": {
   "default_parameters": {},
   "duration": 19.78088,
   "end_time": "2023-06-09T03:21:03.379444",
   "environment_variables": {},
   "exception": null,
   "input_path": "__notebook__.ipynb",
   "output_path": "__notebook__.ipynb",
   "parameters": {},
   "start_time": "2023-06-09T03:20:43.598564",
   "version": "2.4.0"
  }
 },
 "nbformat": 4,
 "nbformat_minor": 5
}
